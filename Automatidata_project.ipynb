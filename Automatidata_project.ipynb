{
  "cells": [
    {
      "cell_type": "markdown",
      "metadata": {
        "id": "DtNBZFHO3M7n"
      },
      "source": [
        "# Project Overview: Enhancing Revenue for NYC Taxi Drivers\n"
      ]
    },
    {
      "cell_type": "markdown",
      "metadata": {
        "id": "9ttxbfHXzB4e"
      },
      "source": [
        "In the bustling environment of New York City’s taxi industry, drivers rely significantly on tips to boost their earnings. Recognizing this, we embarked on a project to develop a machine learning model aimed at optimizing the tipping experience for taxi drivers. This initiative, undertaken by Automatidata, focuses on leveraging data to provide actionable insights that could substantially benefit taxi drivers."
      ]
    },
    {
      "cell_type": "markdown",
      "metadata": {
        "id": "rgSbVJvomcVa"
      },
      "source": [
        "# Objective\n",
        "\n",
        "The primary goal of this project is to build a predictive model that assists taxi drivers by forecasting which passengers are more likely to offer generous tips. By identifying high-potential tipping customers, we aim to enhance drivers' earning opportunities and improve their overall experience.\n",
        "<br/>   \n",
        "# Approach\n",
        "\n",
        "\n",
        "\n",
        "1.   **Ethical Considerations:** We carefully evaluated the ethical implications of our model. Our objective was to ensure that our solution aligns with fair practices and avoids potential negative impacts on both customers and drivers. Adjustments were made to focus on identifying generous tippers rather than those who are less likely to tip, thereby supporting an inclusive approach.\n",
        "2.   **Feature Engineering:** We employed advanced feature engineering techniques to extract and refine relevant data, such as customer behavior patterns, trip details, and payment methods. This preparation was crucial for creating a robust predictive model.\n",
        "3.   **Modeling and Evaluation:** Using state-of-the-art tree-based algorithms, we developed and fine-tuned our model. Comprehensive evaluations were conducted to ensure its accuracy and reliability, with results guiding our recommendations for implementation.\n",
        "\n",
        "<br/>  \n",
        "# Impact\n",
        "\n",
        "Our model is designed to provide taxi drivers with insights that can help them prioritize their efforts, leading to increased earnings and a more rewarding driving experience. This solution not only benefits drivers but also fosters a more efficient and dynamic taxi service for the city.\n",
        "\n",
        "By focusing on predicting generous tippers, we aim to support the livelihood of NYC’s taxi drivers while maintaining equitable service for all passengers. This project exemplifies the potential of data science to create tangible value in real-world applications.\n",
        "\n"
      ]
    },
    {
      "cell_type": "markdown",
      "metadata": {
        "id": "q9Nb_k7XWSaN"
      },
      "source": [
        "# Build a machine learning model"
      ]
    },
    {
      "cell_type": "markdown",
      "metadata": {
        "id": "NzDjfCSLf6Jq"
      },
      "source": [
        "# **PACE stages**\n"
      ]
    },
    {
      "cell_type": "markdown",
      "metadata": {
        "id": "EkXV8vISWSaN"
      },
      "source": [
        "Throughout these project notebooks, you'll see references to the problem-solving framework PACE. The following notebook components are labeled with the respective PACE stage: Plan, Analyze, Construct, and Execute."
      ]
    },
    {
      "cell_type": "markdown",
      "metadata": {
        "id": "E5g1A74r0ow_"
      },
      "source": [
        "## PACE: Plan\n",
        "\n",
        "Consider the questions in your PACE Strategy Document to reflect on the Plan stage.\n",
        "\n",
        "In this stage, consider the following questions:\n",
        "\n",
        "1.   What are you being asked to do?\n",
        "\n",
        "\n",
        "2.   What are the ethical implications of the model? What are the consequences of your model making errors?\n",
        "  *   What is the likely effect of the model when it predicts a false negative (i.e., when the model says a customer will give a tip, but they actually won't)?\n",
        "  \n",
        "  *   What is the likely effect of the model when it predicts a false positive (i.e., when the model says a customer will not give a tip, but they actually will)?  \n",
        "  \n",
        "  \n",
        "3.   Do the benefits of such a model outweigh the potential problems?\n",
        "  \n",
        "4.   Would you proceed with the request to build this model? Why or why not?\n",
        "\n",
        "5.   Can the objective be modified to make it less problematic?\n",
        "\n"
      ]
    },
    {
      "cell_type": "markdown",
      "metadata": {
        "id": "JWGKtz7XWSaO"
      },
      "source": [
        "**Question 1:**\n",
        "\n",
        "Predict if a customer will **not** leave a tip.\n",
        "\n",
        "**Question 2:**\n",
        "\n",
        "Drivers who didn't receive tips will probably be upset that the app told them a customer would leave a tip. If it happened often, drivers might not trust the app.\n",
        "Drivers are unlikely to pick up people who are predicted to not leave tips. Customers will have difficulty finding a taxi that will pick them up, and might get angry at the taxi company. Even when the model is correct, people who can't afford to tip will find it more difficult to get taxis, which limits the accessibility of taxi service to those who pay extra.\n",
        "\n",
        "**Question 3:**\n",
        "\n",
        "It's not good to disincentivize drivers from picking up customers. It could also cause a customer backlash. The problems seem to outweigh the benefits.\n",
        "\n",
        "**Question 4:**\n",
        "\n",
        "No. Effectively limiting equal access to taxis is ethically problematic, and carries a lot of risk.\n",
        "\n",
        "**Question 5:**\n",
        "\n",
        "We can build a model that predicts the most generous customers. This could accomplish the goal of helping taxi drivers increase their earnings from tips while preventing the wrongful exclusion of certain people from using taxis."
      ]
    },
    {
      "cell_type": "markdown",
      "metadata": {
        "id": "GUUrVKTe4cc5"
      },
      "source": [
        "Suppose you were to modify the modeling objective so, instead of predicting people who won't tip at all, you predicted people who are particularly generous&mdash;those who will tip 20% or more? Consider the following questions:\n",
        "\n",
        "1.  What features do you need to make this prediction?\n",
        "\n",
        "2.  What would be the target variable?  \n",
        "\n",
        "3.  What metric should you use to evaluate your model? Do you have enough information to decide this now?\n"
      ]
    },
    {
      "cell_type": "markdown",
      "metadata": {
        "id": "HXIh_fqxWSaO"
      },
      "source": [
        "**Question 1:**  What features do you need to make this prediction?\n",
        "\n",
        "Ideally, we'd have behavioral history for each customer, so we could know how much they tipped on previous taxi rides. We'd also want times, dates, and locations of both pickups and dropoffs, estimated fares, and payment method.\n",
        "\n",
        "**Question 2:**  What would be the target variable?\n",
        "\n",
        "\n",
        "The target variable would be a binary variable (1 or 0) that indicates whether or not the customer is expected to tip ≥ 20%.\n",
        "\n",
        "**Question 3:**  \n",
        "\n",
        "This is a supervised learning, classification task. We could use accuracy, precision, recall, F-score, area under the ROC curve, or a number of other metrics. However, we don't have enough information at this time to know which are most appropriate. We need to know the class balance of the target variable."
      ]
    },
    {
      "cell_type": "markdown",
      "metadata": {
        "id": "K6qPc8_lWSaP"
      },
      "source": [
        "\n",
        "**_Complete the following steps to begin:_**"
      ]
    },
    {
      "cell_type": "markdown",
      "metadata": {
        "id": "e8Vm3QEfGELS"
      },
      "source": [
        "### **Task 1. Imports and data loading**\n",
        "\n",
        "Import packages and libraries needed to build and evaluate random forest and XGBoost classification models."
      ]
    },
    {
      "cell_type": "code",
      "execution_count": null,
      "metadata": {
        "id": "fKhnX2Puf4Bt"
      },
      "outputs": [],
      "source": [
        "# Import packages and libraries\n",
        "### YOUR CODE HERE ###\n",
        "import numpy as np\n",
        "import pandas as pd\n",
        "import matplotlib.pyplot as plt\n",
        "import seaborn as sns\n",
        "\n",
        "from sklearn.ensemble import RandomForestClassifier\n",
        "import xgboost\n",
        "from sklearn.model_selection import train_test_split, PredefinedSplit, GridSearchCV\n",
        "from sklearn.metrics import accuracy_score, precision_score, recall_score, f1_score\n",
        "from sklearn.metrics import confusion_matrix, ConfusionMatrixDisplay"
      ]
    },
    {
      "cell_type": "code",
      "execution_count": null,
      "metadata": {
        "id": "jPxyfUESWSaP"
      },
      "outputs": [],
      "source": [
        "# RUN THIS CELL TO SEE ALL COLUMNS\n",
        "# This lets us see all of the columns, preventing Juptyer from redacting them.\n",
        "pd.set_option('display.max_columns', None)"
      ]
    },
    {
      "cell_type": "markdown",
      "metadata": {
        "id": "IeXTZ2tdbALL"
      },
      "source": [
        "Begin by reading in the data. There are two dataframes: one containing the original data, the other containing the mean durations, mean distances, and predicted fares from the previous course's project called nyc_preds_means.csv.\n",
        "\n",
        "**Note:** `Pandas` reads in the dataset as `df0`, now inspect the first five rows. As shown in this cell, the dataset has been automatically loaded in for you. You do not need to download the .csv file, or provide more code, in order to access the dataset and proceed with this lab. Please continue with this activity by completing the following instructions."
      ]
    },
    {
      "cell_type": "code",
      "execution_count": null,
      "metadata": {
        "id": "5weTXGKqa_iG"
      },
      "outputs": [],
      "source": [
        "# RUN THE CELL BELOW TO IMPORT YOUR DATA.\n",
        "\n",
        "# Load dataset into dataframe\n",
        "df0 = pd.read_csv('2017_Yellow_Taxi_Trip_Data.csv')\n",
        "\n",
        "# Import predicted fares and mean distance and duration from previous course\n",
        "nyc_preds_means = pd.read_csv('nyc_preds_means.csv')"
      ]
    },
    {
      "cell_type": "markdown",
      "metadata": {
        "id": "jhey9xK8WSaQ"
      },
      "source": [
        "Inspect the first few rows of `df0`.\n"
      ]
    },
    {
      "cell_type": "code",
      "execution_count": null,
      "metadata": {
        "id": "lqCKxHeWWSaQ",
        "outputId": "cb4466bc-af68-4c7a-d955-b7e98e0a9bf0"
      },
      "outputs": [
        {
          "data": {
            "text/html": [
              "<div>\n",
              "<style scoped>\n",
              "    .dataframe tbody tr th:only-of-type {\n",
              "        vertical-align: middle;\n",
              "    }\n",
              "\n",
              "    .dataframe tbody tr th {\n",
              "        vertical-align: top;\n",
              "    }\n",
              "\n",
              "    .dataframe thead th {\n",
              "        text-align: right;\n",
              "    }\n",
              "</style>\n",
              "<table border=\"1\" class=\"dataframe\">\n",
              "  <thead>\n",
              "    <tr style=\"text-align: right;\">\n",
              "      <th></th>\n",
              "      <th>Unnamed: 0</th>\n",
              "      <th>VendorID</th>\n",
              "      <th>tpep_pickup_datetime</th>\n",
              "      <th>tpep_dropoff_datetime</th>\n",
              "      <th>passenger_count</th>\n",
              "      <th>trip_distance</th>\n",
              "      <th>RatecodeID</th>\n",
              "      <th>store_and_fwd_flag</th>\n",
              "      <th>PULocationID</th>\n",
              "      <th>DOLocationID</th>\n",
              "      <th>payment_type</th>\n",
              "      <th>fare_amount</th>\n",
              "      <th>extra</th>\n",
              "      <th>mta_tax</th>\n",
              "      <th>tip_amount</th>\n",
              "      <th>tolls_amount</th>\n",
              "      <th>improvement_surcharge</th>\n",
              "      <th>total_amount</th>\n",
              "    </tr>\n",
              "  </thead>\n",
              "  <tbody>\n",
              "    <tr>\n",
              "      <th>0</th>\n",
              "      <td>24870114</td>\n",
              "      <td>2</td>\n",
              "      <td>03/25/2017 8:55:43 AM</td>\n",
              "      <td>03/25/2017 9:09:47 AM</td>\n",
              "      <td>6</td>\n",
              "      <td>3.34</td>\n",
              "      <td>1</td>\n",
              "      <td>N</td>\n",
              "      <td>100</td>\n",
              "      <td>231</td>\n",
              "      <td>1</td>\n",
              "      <td>13.0</td>\n",
              "      <td>0.0</td>\n",
              "      <td>0.5</td>\n",
              "      <td>2.76</td>\n",
              "      <td>0.0</td>\n",
              "      <td>0.3</td>\n",
              "      <td>16.56</td>\n",
              "    </tr>\n",
              "    <tr>\n",
              "      <th>1</th>\n",
              "      <td>35634249</td>\n",
              "      <td>1</td>\n",
              "      <td>04/11/2017 2:53:28 PM</td>\n",
              "      <td>04/11/2017 3:19:58 PM</td>\n",
              "      <td>1</td>\n",
              "      <td>1.80</td>\n",
              "      <td>1</td>\n",
              "      <td>N</td>\n",
              "      <td>186</td>\n",
              "      <td>43</td>\n",
              "      <td>1</td>\n",
              "      <td>16.0</td>\n",
              "      <td>0.0</td>\n",
              "      <td>0.5</td>\n",
              "      <td>4.00</td>\n",
              "      <td>0.0</td>\n",
              "      <td>0.3</td>\n",
              "      <td>20.80</td>\n",
              "    </tr>\n",
              "    <tr>\n",
              "      <th>2</th>\n",
              "      <td>106203690</td>\n",
              "      <td>1</td>\n",
              "      <td>12/15/2017 7:26:56 AM</td>\n",
              "      <td>12/15/2017 7:34:08 AM</td>\n",
              "      <td>1</td>\n",
              "      <td>1.00</td>\n",
              "      <td>1</td>\n",
              "      <td>N</td>\n",
              "      <td>262</td>\n",
              "      <td>236</td>\n",
              "      <td>1</td>\n",
              "      <td>6.5</td>\n",
              "      <td>0.0</td>\n",
              "      <td>0.5</td>\n",
              "      <td>1.45</td>\n",
              "      <td>0.0</td>\n",
              "      <td>0.3</td>\n",
              "      <td>8.75</td>\n",
              "    </tr>\n",
              "    <tr>\n",
              "      <th>3</th>\n",
              "      <td>38942136</td>\n",
              "      <td>2</td>\n",
              "      <td>05/07/2017 1:17:59 PM</td>\n",
              "      <td>05/07/2017 1:48:14 PM</td>\n",
              "      <td>1</td>\n",
              "      <td>3.70</td>\n",
              "      <td>1</td>\n",
              "      <td>N</td>\n",
              "      <td>188</td>\n",
              "      <td>97</td>\n",
              "      <td>1</td>\n",
              "      <td>20.5</td>\n",
              "      <td>0.0</td>\n",
              "      <td>0.5</td>\n",
              "      <td>6.39</td>\n",
              "      <td>0.0</td>\n",
              "      <td>0.3</td>\n",
              "      <td>27.69</td>\n",
              "    </tr>\n",
              "    <tr>\n",
              "      <th>4</th>\n",
              "      <td>30841670</td>\n",
              "      <td>2</td>\n",
              "      <td>04/15/2017 11:32:20 PM</td>\n",
              "      <td>04/15/2017 11:49:03 PM</td>\n",
              "      <td>1</td>\n",
              "      <td>4.37</td>\n",
              "      <td>1</td>\n",
              "      <td>N</td>\n",
              "      <td>4</td>\n",
              "      <td>112</td>\n",
              "      <td>2</td>\n",
              "      <td>16.5</td>\n",
              "      <td>0.5</td>\n",
              "      <td>0.5</td>\n",
              "      <td>0.00</td>\n",
              "      <td>0.0</td>\n",
              "      <td>0.3</td>\n",
              "      <td>17.80</td>\n",
              "    </tr>\n",
              "    <tr>\n",
              "      <th>5</th>\n",
              "      <td>23345809</td>\n",
              "      <td>2</td>\n",
              "      <td>03/25/2017 8:34:11 PM</td>\n",
              "      <td>03/25/2017 8:42:11 PM</td>\n",
              "      <td>6</td>\n",
              "      <td>2.30</td>\n",
              "      <td>1</td>\n",
              "      <td>N</td>\n",
              "      <td>161</td>\n",
              "      <td>236</td>\n",
              "      <td>1</td>\n",
              "      <td>9.0</td>\n",
              "      <td>0.5</td>\n",
              "      <td>0.5</td>\n",
              "      <td>2.06</td>\n",
              "      <td>0.0</td>\n",
              "      <td>0.3</td>\n",
              "      <td>12.36</td>\n",
              "    </tr>\n",
              "    <tr>\n",
              "      <th>6</th>\n",
              "      <td>37660487</td>\n",
              "      <td>2</td>\n",
              "      <td>05/03/2017 7:04:09 PM</td>\n",
              "      <td>05/03/2017 8:03:47 PM</td>\n",
              "      <td>1</td>\n",
              "      <td>12.83</td>\n",
              "      <td>1</td>\n",
              "      <td>N</td>\n",
              "      <td>79</td>\n",
              "      <td>241</td>\n",
              "      <td>1</td>\n",
              "      <td>47.5</td>\n",
              "      <td>1.0</td>\n",
              "      <td>0.5</td>\n",
              "      <td>9.86</td>\n",
              "      <td>0.0</td>\n",
              "      <td>0.3</td>\n",
              "      <td>59.16</td>\n",
              "    </tr>\n",
              "    <tr>\n",
              "      <th>7</th>\n",
              "      <td>69059411</td>\n",
              "      <td>2</td>\n",
              "      <td>08/15/2017 5:41:06 PM</td>\n",
              "      <td>08/15/2017 6:03:05 PM</td>\n",
              "      <td>1</td>\n",
              "      <td>2.98</td>\n",
              "      <td>1</td>\n",
              "      <td>N</td>\n",
              "      <td>237</td>\n",
              "      <td>114</td>\n",
              "      <td>1</td>\n",
              "      <td>16.0</td>\n",
              "      <td>1.0</td>\n",
              "      <td>0.5</td>\n",
              "      <td>1.78</td>\n",
              "      <td>0.0</td>\n",
              "      <td>0.3</td>\n",
              "      <td>19.58</td>\n",
              "    </tr>\n",
              "    <tr>\n",
              "      <th>8</th>\n",
              "      <td>8433159</td>\n",
              "      <td>2</td>\n",
              "      <td>02/04/2017 4:17:07 PM</td>\n",
              "      <td>02/04/2017 4:29:14 PM</td>\n",
              "      <td>1</td>\n",
              "      <td>1.20</td>\n",
              "      <td>1</td>\n",
              "      <td>N</td>\n",
              "      <td>234</td>\n",
              "      <td>249</td>\n",
              "      <td>2</td>\n",
              "      <td>9.0</td>\n",
              "      <td>0.0</td>\n",
              "      <td>0.5</td>\n",
              "      <td>0.00</td>\n",
              "      <td>0.0</td>\n",
              "      <td>0.3</td>\n",
              "      <td>9.80</td>\n",
              "    </tr>\n",
              "    <tr>\n",
              "      <th>9</th>\n",
              "      <td>95294817</td>\n",
              "      <td>1</td>\n",
              "      <td>11/10/2017 3:20:29 PM</td>\n",
              "      <td>11/10/2017 3:40:55 PM</td>\n",
              "      <td>1</td>\n",
              "      <td>1.60</td>\n",
              "      <td>1</td>\n",
              "      <td>N</td>\n",
              "      <td>239</td>\n",
              "      <td>237</td>\n",
              "      <td>1</td>\n",
              "      <td>13.0</td>\n",
              "      <td>0.0</td>\n",
              "      <td>0.5</td>\n",
              "      <td>2.75</td>\n",
              "      <td>0.0</td>\n",
              "      <td>0.3</td>\n",
              "      <td>16.55</td>\n",
              "    </tr>\n",
              "  </tbody>\n",
              "</table>\n",
              "</div>"
            ],
            "text/plain": [
              "   Unnamed: 0  VendorID    tpep_pickup_datetime   tpep_dropoff_datetime  \\\n",
              "0    24870114         2   03/25/2017 8:55:43 AM   03/25/2017 9:09:47 AM   \n",
              "1    35634249         1   04/11/2017 2:53:28 PM   04/11/2017 3:19:58 PM   \n",
              "2   106203690         1   12/15/2017 7:26:56 AM   12/15/2017 7:34:08 AM   \n",
              "3    38942136         2   05/07/2017 1:17:59 PM   05/07/2017 1:48:14 PM   \n",
              "4    30841670         2  04/15/2017 11:32:20 PM  04/15/2017 11:49:03 PM   \n",
              "5    23345809         2   03/25/2017 8:34:11 PM   03/25/2017 8:42:11 PM   \n",
              "6    37660487         2   05/03/2017 7:04:09 PM   05/03/2017 8:03:47 PM   \n",
              "7    69059411         2   08/15/2017 5:41:06 PM   08/15/2017 6:03:05 PM   \n",
              "8     8433159         2   02/04/2017 4:17:07 PM   02/04/2017 4:29:14 PM   \n",
              "9    95294817         1   11/10/2017 3:20:29 PM   11/10/2017 3:40:55 PM   \n",
              "\n",
              "   passenger_count  trip_distance  RatecodeID store_and_fwd_flag  \\\n",
              "0                6           3.34           1                  N   \n",
              "1                1           1.80           1                  N   \n",
              "2                1           1.00           1                  N   \n",
              "3                1           3.70           1                  N   \n",
              "4                1           4.37           1                  N   \n",
              "5                6           2.30           1                  N   \n",
              "6                1          12.83           1                  N   \n",
              "7                1           2.98           1                  N   \n",
              "8                1           1.20           1                  N   \n",
              "9                1           1.60           1                  N   \n",
              "\n",
              "   PULocationID  DOLocationID  payment_type  fare_amount  extra  mta_tax  \\\n",
              "0           100           231             1         13.0    0.0      0.5   \n",
              "1           186            43             1         16.0    0.0      0.5   \n",
              "2           262           236             1          6.5    0.0      0.5   \n",
              "3           188            97             1         20.5    0.0      0.5   \n",
              "4             4           112             2         16.5    0.5      0.5   \n",
              "5           161           236             1          9.0    0.5      0.5   \n",
              "6            79           241             1         47.5    1.0      0.5   \n",
              "7           237           114             1         16.0    1.0      0.5   \n",
              "8           234           249             2          9.0    0.0      0.5   \n",
              "9           239           237             1         13.0    0.0      0.5   \n",
              "\n",
              "   tip_amount  tolls_amount  improvement_surcharge  total_amount  \n",
              "0        2.76           0.0                    0.3         16.56  \n",
              "1        4.00           0.0                    0.3         20.80  \n",
              "2        1.45           0.0                    0.3          8.75  \n",
              "3        6.39           0.0                    0.3         27.69  \n",
              "4        0.00           0.0                    0.3         17.80  \n",
              "5        2.06           0.0                    0.3         12.36  \n",
              "6        9.86           0.0                    0.3         59.16  \n",
              "7        1.78           0.0                    0.3         19.58  \n",
              "8        0.00           0.0                    0.3          9.80  \n",
              "9        2.75           0.0                    0.3         16.55  "
            ]
          },
          "execution_count": 4,
          "metadata": {},
          "output_type": "execute_result"
        }
      ],
      "source": [
        "# Inspect the first few rows of df0\n",
        "### YOUR CODE HERE ###\n",
        "df0.head(10)"
      ]
    },
    {
      "cell_type": "markdown",
      "metadata": {
        "id": "85V7mKNyWSaQ"
      },
      "source": [
        "Inspect the first few rows of `nyc_preds_means`."
      ]
    },
    {
      "cell_type": "code",
      "execution_count": null,
      "metadata": {
        "id": "h3W66RvuWSaQ",
        "outputId": "78e408cf-81a6-476d-a659-e459db89440a"
      },
      "outputs": [
        {
          "data": {
            "text/html": [
              "<div>\n",
              "<style scoped>\n",
              "    .dataframe tbody tr th:only-of-type {\n",
              "        vertical-align: middle;\n",
              "    }\n",
              "\n",
              "    .dataframe tbody tr th {\n",
              "        vertical-align: top;\n",
              "    }\n",
              "\n",
              "    .dataframe thead th {\n",
              "        text-align: right;\n",
              "    }\n",
              "</style>\n",
              "<table border=\"1\" class=\"dataframe\">\n",
              "  <thead>\n",
              "    <tr style=\"text-align: right;\">\n",
              "      <th></th>\n",
              "      <th>mean_duration</th>\n",
              "      <th>mean_distance</th>\n",
              "      <th>predicted_fare</th>\n",
              "    </tr>\n",
              "  </thead>\n",
              "  <tbody>\n",
              "    <tr>\n",
              "      <th>0</th>\n",
              "      <td>22.847222</td>\n",
              "      <td>3.521667</td>\n",
              "      <td>16.434245</td>\n",
              "    </tr>\n",
              "    <tr>\n",
              "      <th>1</th>\n",
              "      <td>24.470370</td>\n",
              "      <td>3.108889</td>\n",
              "      <td>16.052218</td>\n",
              "    </tr>\n",
              "    <tr>\n",
              "      <th>2</th>\n",
              "      <td>7.250000</td>\n",
              "      <td>0.881429</td>\n",
              "      <td>7.053706</td>\n",
              "    </tr>\n",
              "    <tr>\n",
              "      <th>3</th>\n",
              "      <td>30.250000</td>\n",
              "      <td>3.700000</td>\n",
              "      <td>18.731650</td>\n",
              "    </tr>\n",
              "    <tr>\n",
              "      <th>4</th>\n",
              "      <td>14.616667</td>\n",
              "      <td>4.435000</td>\n",
              "      <td>15.845642</td>\n",
              "    </tr>\n",
              "    <tr>\n",
              "      <th>...</th>\n",
              "      <td>...</td>\n",
              "      <td>...</td>\n",
              "      <td>...</td>\n",
              "    </tr>\n",
              "    <tr>\n",
              "      <th>22694</th>\n",
              "      <td>8.594643</td>\n",
              "      <td>1.098214</td>\n",
              "      <td>7.799138</td>\n",
              "    </tr>\n",
              "    <tr>\n",
              "      <th>22695</th>\n",
              "      <td>59.560417</td>\n",
              "      <td>18.757500</td>\n",
              "      <td>52.000000</td>\n",
              "    </tr>\n",
              "    <tr>\n",
              "      <th>22696</th>\n",
              "      <td>6.609091</td>\n",
              "      <td>0.684242</td>\n",
              "      <td>6.130896</td>\n",
              "    </tr>\n",
              "    <tr>\n",
              "      <th>22697</th>\n",
              "      <td>16.650000</td>\n",
              "      <td>2.077500</td>\n",
              "      <td>11.707049</td>\n",
              "    </tr>\n",
              "    <tr>\n",
              "      <th>22698</th>\n",
              "      <td>9.405556</td>\n",
              "      <td>1.476970</td>\n",
              "      <td>8.600969</td>\n",
              "    </tr>\n",
              "  </tbody>\n",
              "</table>\n",
              "<p>22699 rows × 3 columns</p>\n",
              "</div>"
            ],
            "text/plain": [
              "       mean_duration  mean_distance  predicted_fare\n",
              "0          22.847222       3.521667       16.434245\n",
              "1          24.470370       3.108889       16.052218\n",
              "2           7.250000       0.881429        7.053706\n",
              "3          30.250000       3.700000       18.731650\n",
              "4          14.616667       4.435000       15.845642\n",
              "...              ...            ...             ...\n",
              "22694       8.594643       1.098214        7.799138\n",
              "22695      59.560417      18.757500       52.000000\n",
              "22696       6.609091       0.684242        6.130896\n",
              "22697      16.650000       2.077500       11.707049\n",
              "22698       9.405556       1.476970        8.600969\n",
              "\n",
              "[22699 rows x 3 columns]"
            ]
          },
          "execution_count": 5,
          "metadata": {},
          "output_type": "execute_result"
        }
      ],
      "source": [
        "# Inspect the first few rows of `nyc_preds_means`\n",
        "### YOUR CODE HERE ###\n",
        "nyc_preds_means"
      ]
    },
    {
      "cell_type": "markdown",
      "metadata": {
        "id": "viwm8oLrWSaR"
      },
      "source": [
        "#### Join the two dataframes\n",
        "\n",
        "Join the two dataframes using a method of your choice."
      ]
    },
    {
      "cell_type": "code",
      "execution_count": null,
      "metadata": {
        "id": "cVLmp6t6WSaR",
        "outputId": "0d6a60b3-9595-4b50-c2b6-15ce575a89e6"
      },
      "outputs": [
        {
          "data": {
            "text/html": [
              "<div>\n",
              "<style scoped>\n",
              "    .dataframe tbody tr th:only-of-type {\n",
              "        vertical-align: middle;\n",
              "    }\n",
              "\n",
              "    .dataframe tbody tr th {\n",
              "        vertical-align: top;\n",
              "    }\n",
              "\n",
              "    .dataframe thead th {\n",
              "        text-align: right;\n",
              "    }\n",
              "</style>\n",
              "<table border=\"1\" class=\"dataframe\">\n",
              "  <thead>\n",
              "    <tr style=\"text-align: right;\">\n",
              "      <th></th>\n",
              "      <th>Unnamed: 0</th>\n",
              "      <th>VendorID</th>\n",
              "      <th>tpep_pickup_datetime</th>\n",
              "      <th>tpep_dropoff_datetime</th>\n",
              "      <th>passenger_count</th>\n",
              "      <th>trip_distance</th>\n",
              "      <th>RatecodeID</th>\n",
              "      <th>store_and_fwd_flag</th>\n",
              "      <th>PULocationID</th>\n",
              "      <th>DOLocationID</th>\n",
              "      <th>payment_type</th>\n",
              "      <th>fare_amount</th>\n",
              "      <th>extra</th>\n",
              "      <th>mta_tax</th>\n",
              "      <th>tip_amount</th>\n",
              "      <th>tolls_amount</th>\n",
              "      <th>improvement_surcharge</th>\n",
              "      <th>total_amount</th>\n",
              "      <th>mean_duration</th>\n",
              "      <th>mean_distance</th>\n",
              "      <th>predicted_fare</th>\n",
              "    </tr>\n",
              "  </thead>\n",
              "  <tbody>\n",
              "    <tr>\n",
              "      <th>0</th>\n",
              "      <td>24870114</td>\n",
              "      <td>2</td>\n",
              "      <td>03/25/2017 8:55:43 AM</td>\n",
              "      <td>03/25/2017 9:09:47 AM</td>\n",
              "      <td>6</td>\n",
              "      <td>3.34</td>\n",
              "      <td>1</td>\n",
              "      <td>N</td>\n",
              "      <td>100</td>\n",
              "      <td>231</td>\n",
              "      <td>1</td>\n",
              "      <td>13.0</td>\n",
              "      <td>0.0</td>\n",
              "      <td>0.5</td>\n",
              "      <td>2.76</td>\n",
              "      <td>0.00</td>\n",
              "      <td>0.3</td>\n",
              "      <td>16.56</td>\n",
              "      <td>22.847222</td>\n",
              "      <td>3.521667</td>\n",
              "      <td>16.434245</td>\n",
              "    </tr>\n",
              "    <tr>\n",
              "      <th>1</th>\n",
              "      <td>35634249</td>\n",
              "      <td>1</td>\n",
              "      <td>04/11/2017 2:53:28 PM</td>\n",
              "      <td>04/11/2017 3:19:58 PM</td>\n",
              "      <td>1</td>\n",
              "      <td>1.80</td>\n",
              "      <td>1</td>\n",
              "      <td>N</td>\n",
              "      <td>186</td>\n",
              "      <td>43</td>\n",
              "      <td>1</td>\n",
              "      <td>16.0</td>\n",
              "      <td>0.0</td>\n",
              "      <td>0.5</td>\n",
              "      <td>4.00</td>\n",
              "      <td>0.00</td>\n",
              "      <td>0.3</td>\n",
              "      <td>20.80</td>\n",
              "      <td>24.470370</td>\n",
              "      <td>3.108889</td>\n",
              "      <td>16.052218</td>\n",
              "    </tr>\n",
              "    <tr>\n",
              "      <th>2</th>\n",
              "      <td>106203690</td>\n",
              "      <td>1</td>\n",
              "      <td>12/15/2017 7:26:56 AM</td>\n",
              "      <td>12/15/2017 7:34:08 AM</td>\n",
              "      <td>1</td>\n",
              "      <td>1.00</td>\n",
              "      <td>1</td>\n",
              "      <td>N</td>\n",
              "      <td>262</td>\n",
              "      <td>236</td>\n",
              "      <td>1</td>\n",
              "      <td>6.5</td>\n",
              "      <td>0.0</td>\n",
              "      <td>0.5</td>\n",
              "      <td>1.45</td>\n",
              "      <td>0.00</td>\n",
              "      <td>0.3</td>\n",
              "      <td>8.75</td>\n",
              "      <td>7.250000</td>\n",
              "      <td>0.881429</td>\n",
              "      <td>7.053706</td>\n",
              "    </tr>\n",
              "    <tr>\n",
              "      <th>3</th>\n",
              "      <td>38942136</td>\n",
              "      <td>2</td>\n",
              "      <td>05/07/2017 1:17:59 PM</td>\n",
              "      <td>05/07/2017 1:48:14 PM</td>\n",
              "      <td>1</td>\n",
              "      <td>3.70</td>\n",
              "      <td>1</td>\n",
              "      <td>N</td>\n",
              "      <td>188</td>\n",
              "      <td>97</td>\n",
              "      <td>1</td>\n",
              "      <td>20.5</td>\n",
              "      <td>0.0</td>\n",
              "      <td>0.5</td>\n",
              "      <td>6.39</td>\n",
              "      <td>0.00</td>\n",
              "      <td>0.3</td>\n",
              "      <td>27.69</td>\n",
              "      <td>30.250000</td>\n",
              "      <td>3.700000</td>\n",
              "      <td>18.731650</td>\n",
              "    </tr>\n",
              "    <tr>\n",
              "      <th>4</th>\n",
              "      <td>30841670</td>\n",
              "      <td>2</td>\n",
              "      <td>04/15/2017 11:32:20 PM</td>\n",
              "      <td>04/15/2017 11:49:03 PM</td>\n",
              "      <td>1</td>\n",
              "      <td>4.37</td>\n",
              "      <td>1</td>\n",
              "      <td>N</td>\n",
              "      <td>4</td>\n",
              "      <td>112</td>\n",
              "      <td>2</td>\n",
              "      <td>16.5</td>\n",
              "      <td>0.5</td>\n",
              "      <td>0.5</td>\n",
              "      <td>0.00</td>\n",
              "      <td>0.00</td>\n",
              "      <td>0.3</td>\n",
              "      <td>17.80</td>\n",
              "      <td>14.616667</td>\n",
              "      <td>4.435000</td>\n",
              "      <td>15.845642</td>\n",
              "    </tr>\n",
              "    <tr>\n",
              "      <th>...</th>\n",
              "      <td>...</td>\n",
              "      <td>...</td>\n",
              "      <td>...</td>\n",
              "      <td>...</td>\n",
              "      <td>...</td>\n",
              "      <td>...</td>\n",
              "      <td>...</td>\n",
              "      <td>...</td>\n",
              "      <td>...</td>\n",
              "      <td>...</td>\n",
              "      <td>...</td>\n",
              "      <td>...</td>\n",
              "      <td>...</td>\n",
              "      <td>...</td>\n",
              "      <td>...</td>\n",
              "      <td>...</td>\n",
              "      <td>...</td>\n",
              "      <td>...</td>\n",
              "      <td>...</td>\n",
              "      <td>...</td>\n",
              "      <td>...</td>\n",
              "    </tr>\n",
              "    <tr>\n",
              "      <th>22694</th>\n",
              "      <td>14873857</td>\n",
              "      <td>2</td>\n",
              "      <td>02/24/2017 5:37:23 PM</td>\n",
              "      <td>02/24/2017 5:40:39 PM</td>\n",
              "      <td>3</td>\n",
              "      <td>0.61</td>\n",
              "      <td>1</td>\n",
              "      <td>N</td>\n",
              "      <td>48</td>\n",
              "      <td>186</td>\n",
              "      <td>2</td>\n",
              "      <td>4.0</td>\n",
              "      <td>1.0</td>\n",
              "      <td>0.5</td>\n",
              "      <td>0.00</td>\n",
              "      <td>0.00</td>\n",
              "      <td>0.3</td>\n",
              "      <td>5.80</td>\n",
              "      <td>8.594643</td>\n",
              "      <td>1.098214</td>\n",
              "      <td>7.799138</td>\n",
              "    </tr>\n",
              "    <tr>\n",
              "      <th>22695</th>\n",
              "      <td>66632549</td>\n",
              "      <td>2</td>\n",
              "      <td>08/06/2017 4:43:59 PM</td>\n",
              "      <td>08/06/2017 5:24:47 PM</td>\n",
              "      <td>1</td>\n",
              "      <td>16.71</td>\n",
              "      <td>2</td>\n",
              "      <td>N</td>\n",
              "      <td>132</td>\n",
              "      <td>164</td>\n",
              "      <td>1</td>\n",
              "      <td>52.0</td>\n",
              "      <td>0.0</td>\n",
              "      <td>0.5</td>\n",
              "      <td>14.64</td>\n",
              "      <td>5.76</td>\n",
              "      <td>0.3</td>\n",
              "      <td>73.20</td>\n",
              "      <td>59.560417</td>\n",
              "      <td>18.757500</td>\n",
              "      <td>52.000000</td>\n",
              "    </tr>\n",
              "    <tr>\n",
              "      <th>22696</th>\n",
              "      <td>74239933</td>\n",
              "      <td>2</td>\n",
              "      <td>09/04/2017 2:54:14 PM</td>\n",
              "      <td>09/04/2017 2:58:22 PM</td>\n",
              "      <td>1</td>\n",
              "      <td>0.42</td>\n",
              "      <td>1</td>\n",
              "      <td>N</td>\n",
              "      <td>107</td>\n",
              "      <td>234</td>\n",
              "      <td>2</td>\n",
              "      <td>4.5</td>\n",
              "      <td>0.0</td>\n",
              "      <td>0.5</td>\n",
              "      <td>0.00</td>\n",
              "      <td>0.00</td>\n",
              "      <td>0.3</td>\n",
              "      <td>5.30</td>\n",
              "      <td>6.609091</td>\n",
              "      <td>0.684242</td>\n",
              "      <td>6.130896</td>\n",
              "    </tr>\n",
              "    <tr>\n",
              "      <th>22697</th>\n",
              "      <td>60217333</td>\n",
              "      <td>2</td>\n",
              "      <td>07/15/2017 12:56:30 PM</td>\n",
              "      <td>07/15/2017 1:08:26 PM</td>\n",
              "      <td>1</td>\n",
              "      <td>2.36</td>\n",
              "      <td>1</td>\n",
              "      <td>N</td>\n",
              "      <td>68</td>\n",
              "      <td>144</td>\n",
              "      <td>1</td>\n",
              "      <td>10.5</td>\n",
              "      <td>0.0</td>\n",
              "      <td>0.5</td>\n",
              "      <td>1.70</td>\n",
              "      <td>0.00</td>\n",
              "      <td>0.3</td>\n",
              "      <td>13.00</td>\n",
              "      <td>16.650000</td>\n",
              "      <td>2.077500</td>\n",
              "      <td>11.707049</td>\n",
              "    </tr>\n",
              "    <tr>\n",
              "      <th>22698</th>\n",
              "      <td>17208911</td>\n",
              "      <td>1</td>\n",
              "      <td>03/02/2017 1:02:49 PM</td>\n",
              "      <td>03/02/2017 1:16:09 PM</td>\n",
              "      <td>1</td>\n",
              "      <td>2.10</td>\n",
              "      <td>1</td>\n",
              "      <td>N</td>\n",
              "      <td>239</td>\n",
              "      <td>236</td>\n",
              "      <td>1</td>\n",
              "      <td>11.0</td>\n",
              "      <td>0.0</td>\n",
              "      <td>0.5</td>\n",
              "      <td>2.35</td>\n",
              "      <td>0.00</td>\n",
              "      <td>0.3</td>\n",
              "      <td>14.15</td>\n",
              "      <td>9.405556</td>\n",
              "      <td>1.476970</td>\n",
              "      <td>8.600969</td>\n",
              "    </tr>\n",
              "  </tbody>\n",
              "</table>\n",
              "<p>22699 rows × 21 columns</p>\n",
              "</div>"
            ],
            "text/plain": [
              "       Unnamed: 0  VendorID    tpep_pickup_datetime   tpep_dropoff_datetime  \\\n",
              "0        24870114         2   03/25/2017 8:55:43 AM   03/25/2017 9:09:47 AM   \n",
              "1        35634249         1   04/11/2017 2:53:28 PM   04/11/2017 3:19:58 PM   \n",
              "2       106203690         1   12/15/2017 7:26:56 AM   12/15/2017 7:34:08 AM   \n",
              "3        38942136         2   05/07/2017 1:17:59 PM   05/07/2017 1:48:14 PM   \n",
              "4        30841670         2  04/15/2017 11:32:20 PM  04/15/2017 11:49:03 PM   \n",
              "...           ...       ...                     ...                     ...   \n",
              "22694    14873857         2   02/24/2017 5:37:23 PM   02/24/2017 5:40:39 PM   \n",
              "22695    66632549         2   08/06/2017 4:43:59 PM   08/06/2017 5:24:47 PM   \n",
              "22696    74239933         2   09/04/2017 2:54:14 PM   09/04/2017 2:58:22 PM   \n",
              "22697    60217333         2  07/15/2017 12:56:30 PM   07/15/2017 1:08:26 PM   \n",
              "22698    17208911         1   03/02/2017 1:02:49 PM   03/02/2017 1:16:09 PM   \n",
              "\n",
              "       passenger_count  trip_distance  RatecodeID store_and_fwd_flag  \\\n",
              "0                    6           3.34           1                  N   \n",
              "1                    1           1.80           1                  N   \n",
              "2                    1           1.00           1                  N   \n",
              "3                    1           3.70           1                  N   \n",
              "4                    1           4.37           1                  N   \n",
              "...                ...            ...         ...                ...   \n",
              "22694                3           0.61           1                  N   \n",
              "22695                1          16.71           2                  N   \n",
              "22696                1           0.42           1                  N   \n",
              "22697                1           2.36           1                  N   \n",
              "22698                1           2.10           1                  N   \n",
              "\n",
              "       PULocationID  DOLocationID  payment_type  fare_amount  extra  mta_tax  \\\n",
              "0               100           231             1         13.0    0.0      0.5   \n",
              "1               186            43             1         16.0    0.0      0.5   \n",
              "2               262           236             1          6.5    0.0      0.5   \n",
              "3               188            97             1         20.5    0.0      0.5   \n",
              "4                 4           112             2         16.5    0.5      0.5   \n",
              "...             ...           ...           ...          ...    ...      ...   \n",
              "22694            48           186             2          4.0    1.0      0.5   \n",
              "22695           132           164             1         52.0    0.0      0.5   \n",
              "22696           107           234             2          4.5    0.0      0.5   \n",
              "22697            68           144             1         10.5    0.0      0.5   \n",
              "22698           239           236             1         11.0    0.0      0.5   \n",
              "\n",
              "       tip_amount  tolls_amount  improvement_surcharge  total_amount  \\\n",
              "0            2.76          0.00                    0.3         16.56   \n",
              "1            4.00          0.00                    0.3         20.80   \n",
              "2            1.45          0.00                    0.3          8.75   \n",
              "3            6.39          0.00                    0.3         27.69   \n",
              "4            0.00          0.00                    0.3         17.80   \n",
              "...           ...           ...                    ...           ...   \n",
              "22694        0.00          0.00                    0.3          5.80   \n",
              "22695       14.64          5.76                    0.3         73.20   \n",
              "22696        0.00          0.00                    0.3          5.30   \n",
              "22697        1.70          0.00                    0.3         13.00   \n",
              "22698        2.35          0.00                    0.3         14.15   \n",
              "\n",
              "       mean_duration  mean_distance  predicted_fare  \n",
              "0          22.847222       3.521667       16.434245  \n",
              "1          24.470370       3.108889       16.052218  \n",
              "2           7.250000       0.881429        7.053706  \n",
              "3          30.250000       3.700000       18.731650  \n",
              "4          14.616667       4.435000       15.845642  \n",
              "...              ...            ...             ...  \n",
              "22694       8.594643       1.098214        7.799138  \n",
              "22695      59.560417      18.757500       52.000000  \n",
              "22696       6.609091       0.684242        6.130896  \n",
              "22697      16.650000       2.077500       11.707049  \n",
              "22698       9.405556       1.476970        8.600969  \n",
              "\n",
              "[22699 rows x 21 columns]"
            ]
          },
          "execution_count": 6,
          "metadata": {},
          "output_type": "execute_result"
        }
      ],
      "source": [
        "# Merge datasets\n",
        "### YOUR CODE HERE ###\n",
        "df0 = df0.merge(nyc_preds_means, left_index= True,  right_index = True)\n",
        "df0"
      ]
    },
    {
      "cell_type": "markdown",
      "metadata": {
        "id": "EgPRBjizg1oo"
      },
      "source": [
        "## PACE: **Analyze**\n",
        "\n",
        "Consider the questions in your PACE Strategy Documentto reflect on the Analyze stage."
      ]
    },
    {
      "cell_type": "markdown",
      "metadata": {
        "id": "5VZowX9rhU1o"
      },
      "source": [
        "### **Task 2. Feature engineering**\n",
        "\n",
        "You have already prepared much of this data and performed exploratory data analysis (EDA) in previous courses.\n",
        "\n",
        "Call `info()` on the new combined dataframe."
      ]
    },
    {
      "cell_type": "code",
      "execution_count": null,
      "metadata": {
        "id": "mBOSW8IDbO_d",
        "outputId": "080ba08d-4e90-4feb-b2a8-bfe285f64dbc"
      },
      "outputs": [
        {
          "name": "stdout",
          "output_type": "stream",
          "text": [
            "<class 'pandas.core.frame.DataFrame'>\n",
            "RangeIndex: 22699 entries, 0 to 22698\n",
            "Data columns (total 21 columns):\n",
            " #   Column                 Non-Null Count  Dtype  \n",
            "---  ------                 --------------  -----  \n",
            " 0   Unnamed: 0             22699 non-null  int64  \n",
            " 1   VendorID               22699 non-null  int64  \n",
            " 2   tpep_pickup_datetime   22699 non-null  object \n",
            " 3   tpep_dropoff_datetime  22699 non-null  object \n",
            " 4   passenger_count        22699 non-null  int64  \n",
            " 5   trip_distance          22699 non-null  float64\n",
            " 6   RatecodeID             22699 non-null  int64  \n",
            " 7   store_and_fwd_flag     22699 non-null  object \n",
            " 8   PULocationID           22699 non-null  int64  \n",
            " 9   DOLocationID           22699 non-null  int64  \n",
            " 10  payment_type           22699 non-null  int64  \n",
            " 11  fare_amount            22699 non-null  float64\n",
            " 12  extra                  22699 non-null  float64\n",
            " 13  mta_tax                22699 non-null  float64\n",
            " 14  tip_amount             22699 non-null  float64\n",
            " 15  tolls_amount           22699 non-null  float64\n",
            " 16  improvement_surcharge  22699 non-null  float64\n",
            " 17  total_amount           22699 non-null  float64\n",
            " 18  mean_duration          22699 non-null  float64\n",
            " 19  mean_distance          22699 non-null  float64\n",
            " 20  predicted_fare         22699 non-null  float64\n",
            "dtypes: float64(11), int64(7), object(3)\n",
            "memory usage: 3.6+ MB\n"
          ]
        }
      ],
      "source": [
        "#==> ENTER YOUR CODE HERE\n",
        "df0.info()"
      ]
    },
    {
      "cell_type": "markdown",
      "metadata": {
        "id": "0D2RvXk0kwsx"
      },
      "source": [
        "You know from your EDA that customers who pay cash generally have a tip amount of $0. To meet the modeling objective, you'll need to sample the data to select only the customers who pay with credit card.\n",
        "\n",
        "Copy `df0` and assign the result to a variable called `df1`. Then, use a Boolean mask to filter `df1` so it contains only customers who paid with credit card."
      ]
    },
    {
      "cell_type": "code",
      "execution_count": null,
      "metadata": {
        "id": "_pmNd78plQYr",
        "outputId": "fd7a5cf4-0127-47c6-eebb-6039c379fa24"
      },
      "outputs": [
        {
          "data": {
            "text/html": [
              "<div>\n",
              "<style scoped>\n",
              "    .dataframe tbody tr th:only-of-type {\n",
              "        vertical-align: middle;\n",
              "    }\n",
              "\n",
              "    .dataframe tbody tr th {\n",
              "        vertical-align: top;\n",
              "    }\n",
              "\n",
              "    .dataframe thead th {\n",
              "        text-align: right;\n",
              "    }\n",
              "</style>\n",
              "<table border=\"1\" class=\"dataframe\">\n",
              "  <thead>\n",
              "    <tr style=\"text-align: right;\">\n",
              "      <th></th>\n",
              "      <th>Unnamed: 0</th>\n",
              "      <th>VendorID</th>\n",
              "      <th>tpep_pickup_datetime</th>\n",
              "      <th>tpep_dropoff_datetime</th>\n",
              "      <th>passenger_count</th>\n",
              "      <th>trip_distance</th>\n",
              "      <th>RatecodeID</th>\n",
              "      <th>store_and_fwd_flag</th>\n",
              "      <th>PULocationID</th>\n",
              "      <th>DOLocationID</th>\n",
              "      <th>payment_type</th>\n",
              "      <th>fare_amount</th>\n",
              "      <th>extra</th>\n",
              "      <th>mta_tax</th>\n",
              "      <th>tip_amount</th>\n",
              "      <th>tolls_amount</th>\n",
              "      <th>improvement_surcharge</th>\n",
              "      <th>total_amount</th>\n",
              "      <th>mean_duration</th>\n",
              "      <th>mean_distance</th>\n",
              "      <th>predicted_fare</th>\n",
              "    </tr>\n",
              "  </thead>\n",
              "  <tbody>\n",
              "    <tr>\n",
              "      <th>0</th>\n",
              "      <td>24870114</td>\n",
              "      <td>2</td>\n",
              "      <td>03/25/2017 8:55:43 AM</td>\n",
              "      <td>03/25/2017 9:09:47 AM</td>\n",
              "      <td>6</td>\n",
              "      <td>3.34</td>\n",
              "      <td>1</td>\n",
              "      <td>N</td>\n",
              "      <td>100</td>\n",
              "      <td>231</td>\n",
              "      <td>1</td>\n",
              "      <td>13.0</td>\n",
              "      <td>0.0</td>\n",
              "      <td>0.5</td>\n",
              "      <td>2.76</td>\n",
              "      <td>0.00</td>\n",
              "      <td>0.3</td>\n",
              "      <td>16.56</td>\n",
              "      <td>22.847222</td>\n",
              "      <td>3.521667</td>\n",
              "      <td>16.434245</td>\n",
              "    </tr>\n",
              "    <tr>\n",
              "      <th>1</th>\n",
              "      <td>35634249</td>\n",
              "      <td>1</td>\n",
              "      <td>04/11/2017 2:53:28 PM</td>\n",
              "      <td>04/11/2017 3:19:58 PM</td>\n",
              "      <td>1</td>\n",
              "      <td>1.80</td>\n",
              "      <td>1</td>\n",
              "      <td>N</td>\n",
              "      <td>186</td>\n",
              "      <td>43</td>\n",
              "      <td>1</td>\n",
              "      <td>16.0</td>\n",
              "      <td>0.0</td>\n",
              "      <td>0.5</td>\n",
              "      <td>4.00</td>\n",
              "      <td>0.00</td>\n",
              "      <td>0.3</td>\n",
              "      <td>20.80</td>\n",
              "      <td>24.470370</td>\n",
              "      <td>3.108889</td>\n",
              "      <td>16.052218</td>\n",
              "    </tr>\n",
              "    <tr>\n",
              "      <th>2</th>\n",
              "      <td>106203690</td>\n",
              "      <td>1</td>\n",
              "      <td>12/15/2017 7:26:56 AM</td>\n",
              "      <td>12/15/2017 7:34:08 AM</td>\n",
              "      <td>1</td>\n",
              "      <td>1.00</td>\n",
              "      <td>1</td>\n",
              "      <td>N</td>\n",
              "      <td>262</td>\n",
              "      <td>236</td>\n",
              "      <td>1</td>\n",
              "      <td>6.5</td>\n",
              "      <td>0.0</td>\n",
              "      <td>0.5</td>\n",
              "      <td>1.45</td>\n",
              "      <td>0.00</td>\n",
              "      <td>0.3</td>\n",
              "      <td>8.75</td>\n",
              "      <td>7.250000</td>\n",
              "      <td>0.881429</td>\n",
              "      <td>7.053706</td>\n",
              "    </tr>\n",
              "    <tr>\n",
              "      <th>3</th>\n",
              "      <td>38942136</td>\n",
              "      <td>2</td>\n",
              "      <td>05/07/2017 1:17:59 PM</td>\n",
              "      <td>05/07/2017 1:48:14 PM</td>\n",
              "      <td>1</td>\n",
              "      <td>3.70</td>\n",
              "      <td>1</td>\n",
              "      <td>N</td>\n",
              "      <td>188</td>\n",
              "      <td>97</td>\n",
              "      <td>1</td>\n",
              "      <td>20.5</td>\n",
              "      <td>0.0</td>\n",
              "      <td>0.5</td>\n",
              "      <td>6.39</td>\n",
              "      <td>0.00</td>\n",
              "      <td>0.3</td>\n",
              "      <td>27.69</td>\n",
              "      <td>30.250000</td>\n",
              "      <td>3.700000</td>\n",
              "      <td>18.731650</td>\n",
              "    </tr>\n",
              "    <tr>\n",
              "      <th>5</th>\n",
              "      <td>23345809</td>\n",
              "      <td>2</td>\n",
              "      <td>03/25/2017 8:34:11 PM</td>\n",
              "      <td>03/25/2017 8:42:11 PM</td>\n",
              "      <td>6</td>\n",
              "      <td>2.30</td>\n",
              "      <td>1</td>\n",
              "      <td>N</td>\n",
              "      <td>161</td>\n",
              "      <td>236</td>\n",
              "      <td>1</td>\n",
              "      <td>9.0</td>\n",
              "      <td>0.5</td>\n",
              "      <td>0.5</td>\n",
              "      <td>2.06</td>\n",
              "      <td>0.00</td>\n",
              "      <td>0.3</td>\n",
              "      <td>12.36</td>\n",
              "      <td>11.855376</td>\n",
              "      <td>2.052258</td>\n",
              "      <td>10.441351</td>\n",
              "    </tr>\n",
              "    <tr>\n",
              "      <th>...</th>\n",
              "      <td>...</td>\n",
              "      <td>...</td>\n",
              "      <td>...</td>\n",
              "      <td>...</td>\n",
              "      <td>...</td>\n",
              "      <td>...</td>\n",
              "      <td>...</td>\n",
              "      <td>...</td>\n",
              "      <td>...</td>\n",
              "      <td>...</td>\n",
              "      <td>...</td>\n",
              "      <td>...</td>\n",
              "      <td>...</td>\n",
              "      <td>...</td>\n",
              "      <td>...</td>\n",
              "      <td>...</td>\n",
              "      <td>...</td>\n",
              "      <td>...</td>\n",
              "      <td>...</td>\n",
              "      <td>...</td>\n",
              "      <td>...</td>\n",
              "    </tr>\n",
              "    <tr>\n",
              "      <th>22692</th>\n",
              "      <td>60425673</td>\n",
              "      <td>1</td>\n",
              "      <td>07/16/2017 3:22:51 AM</td>\n",
              "      <td>07/16/2017 3:40:52 AM</td>\n",
              "      <td>1</td>\n",
              "      <td>5.70</td>\n",
              "      <td>1</td>\n",
              "      <td>N</td>\n",
              "      <td>249</td>\n",
              "      <td>17</td>\n",
              "      <td>1</td>\n",
              "      <td>19.0</td>\n",
              "      <td>0.5</td>\n",
              "      <td>0.5</td>\n",
              "      <td>4.05</td>\n",
              "      <td>0.00</td>\n",
              "      <td>0.3</td>\n",
              "      <td>24.35</td>\n",
              "      <td>18.016667</td>\n",
              "      <td>5.700000</td>\n",
              "      <td>19.426247</td>\n",
              "    </tr>\n",
              "    <tr>\n",
              "      <th>22693</th>\n",
              "      <td>67858616</td>\n",
              "      <td>2</td>\n",
              "      <td>08/10/2017 10:20:04 PM</td>\n",
              "      <td>08/10/2017 10:29:31 PM</td>\n",
              "      <td>1</td>\n",
              "      <td>0.89</td>\n",
              "      <td>1</td>\n",
              "      <td>N</td>\n",
              "      <td>229</td>\n",
              "      <td>170</td>\n",
              "      <td>1</td>\n",
              "      <td>7.5</td>\n",
              "      <td>0.5</td>\n",
              "      <td>0.5</td>\n",
              "      <td>1.76</td>\n",
              "      <td>0.00</td>\n",
              "      <td>0.3</td>\n",
              "      <td>10.56</td>\n",
              "      <td>8.095370</td>\n",
              "      <td>1.062778</td>\n",
              "      <td>7.300146</td>\n",
              "    </tr>\n",
              "    <tr>\n",
              "      <th>22695</th>\n",
              "      <td>66632549</td>\n",
              "      <td>2</td>\n",
              "      <td>08/06/2017 4:43:59 PM</td>\n",
              "      <td>08/06/2017 5:24:47 PM</td>\n",
              "      <td>1</td>\n",
              "      <td>16.71</td>\n",
              "      <td>2</td>\n",
              "      <td>N</td>\n",
              "      <td>132</td>\n",
              "      <td>164</td>\n",
              "      <td>1</td>\n",
              "      <td>52.0</td>\n",
              "      <td>0.0</td>\n",
              "      <td>0.5</td>\n",
              "      <td>14.64</td>\n",
              "      <td>5.76</td>\n",
              "      <td>0.3</td>\n",
              "      <td>73.20</td>\n",
              "      <td>59.560417</td>\n",
              "      <td>18.757500</td>\n",
              "      <td>52.000000</td>\n",
              "    </tr>\n",
              "    <tr>\n",
              "      <th>22697</th>\n",
              "      <td>60217333</td>\n",
              "      <td>2</td>\n",
              "      <td>07/15/2017 12:56:30 PM</td>\n",
              "      <td>07/15/2017 1:08:26 PM</td>\n",
              "      <td>1</td>\n",
              "      <td>2.36</td>\n",
              "      <td>1</td>\n",
              "      <td>N</td>\n",
              "      <td>68</td>\n",
              "      <td>144</td>\n",
              "      <td>1</td>\n",
              "      <td>10.5</td>\n",
              "      <td>0.0</td>\n",
              "      <td>0.5</td>\n",
              "      <td>1.70</td>\n",
              "      <td>0.00</td>\n",
              "      <td>0.3</td>\n",
              "      <td>13.00</td>\n",
              "      <td>16.650000</td>\n",
              "      <td>2.077500</td>\n",
              "      <td>11.707049</td>\n",
              "    </tr>\n",
              "    <tr>\n",
              "      <th>22698</th>\n",
              "      <td>17208911</td>\n",
              "      <td>1</td>\n",
              "      <td>03/02/2017 1:02:49 PM</td>\n",
              "      <td>03/02/2017 1:16:09 PM</td>\n",
              "      <td>1</td>\n",
              "      <td>2.10</td>\n",
              "      <td>1</td>\n",
              "      <td>N</td>\n",
              "      <td>239</td>\n",
              "      <td>236</td>\n",
              "      <td>1</td>\n",
              "      <td>11.0</td>\n",
              "      <td>0.0</td>\n",
              "      <td>0.5</td>\n",
              "      <td>2.35</td>\n",
              "      <td>0.00</td>\n",
              "      <td>0.3</td>\n",
              "      <td>14.15</td>\n",
              "      <td>9.405556</td>\n",
              "      <td>1.476970</td>\n",
              "      <td>8.600969</td>\n",
              "    </tr>\n",
              "  </tbody>\n",
              "</table>\n",
              "<p>15265 rows × 21 columns</p>\n",
              "</div>"
            ],
            "text/plain": [
              "       Unnamed: 0  VendorID    tpep_pickup_datetime   tpep_dropoff_datetime  \\\n",
              "0        24870114         2   03/25/2017 8:55:43 AM   03/25/2017 9:09:47 AM   \n",
              "1        35634249         1   04/11/2017 2:53:28 PM   04/11/2017 3:19:58 PM   \n",
              "2       106203690         1   12/15/2017 7:26:56 AM   12/15/2017 7:34:08 AM   \n",
              "3        38942136         2   05/07/2017 1:17:59 PM   05/07/2017 1:48:14 PM   \n",
              "5        23345809         2   03/25/2017 8:34:11 PM   03/25/2017 8:42:11 PM   \n",
              "...           ...       ...                     ...                     ...   \n",
              "22692    60425673         1   07/16/2017 3:22:51 AM   07/16/2017 3:40:52 AM   \n",
              "22693    67858616         2  08/10/2017 10:20:04 PM  08/10/2017 10:29:31 PM   \n",
              "22695    66632549         2   08/06/2017 4:43:59 PM   08/06/2017 5:24:47 PM   \n",
              "22697    60217333         2  07/15/2017 12:56:30 PM   07/15/2017 1:08:26 PM   \n",
              "22698    17208911         1   03/02/2017 1:02:49 PM   03/02/2017 1:16:09 PM   \n",
              "\n",
              "       passenger_count  trip_distance  RatecodeID store_and_fwd_flag  \\\n",
              "0                    6           3.34           1                  N   \n",
              "1                    1           1.80           1                  N   \n",
              "2                    1           1.00           1                  N   \n",
              "3                    1           3.70           1                  N   \n",
              "5                    6           2.30           1                  N   \n",
              "...                ...            ...         ...                ...   \n",
              "22692                1           5.70           1                  N   \n",
              "22693                1           0.89           1                  N   \n",
              "22695                1          16.71           2                  N   \n",
              "22697                1           2.36           1                  N   \n",
              "22698                1           2.10           1                  N   \n",
              "\n",
              "       PULocationID  DOLocationID  payment_type  fare_amount  extra  mta_tax  \\\n",
              "0               100           231             1         13.0    0.0      0.5   \n",
              "1               186            43             1         16.0    0.0      0.5   \n",
              "2               262           236             1          6.5    0.0      0.5   \n",
              "3               188            97             1         20.5    0.0      0.5   \n",
              "5               161           236             1          9.0    0.5      0.5   \n",
              "...             ...           ...           ...          ...    ...      ...   \n",
              "22692           249            17             1         19.0    0.5      0.5   \n",
              "22693           229           170             1          7.5    0.5      0.5   \n",
              "22695           132           164             1         52.0    0.0      0.5   \n",
              "22697            68           144             1         10.5    0.0      0.5   \n",
              "22698           239           236             1         11.0    0.0      0.5   \n",
              "\n",
              "       tip_amount  tolls_amount  improvement_surcharge  total_amount  \\\n",
              "0            2.76          0.00                    0.3         16.56   \n",
              "1            4.00          0.00                    0.3         20.80   \n",
              "2            1.45          0.00                    0.3          8.75   \n",
              "3            6.39          0.00                    0.3         27.69   \n",
              "5            2.06          0.00                    0.3         12.36   \n",
              "...           ...           ...                    ...           ...   \n",
              "22692        4.05          0.00                    0.3         24.35   \n",
              "22693        1.76          0.00                    0.3         10.56   \n",
              "22695       14.64          5.76                    0.3         73.20   \n",
              "22697        1.70          0.00                    0.3         13.00   \n",
              "22698        2.35          0.00                    0.3         14.15   \n",
              "\n",
              "       mean_duration  mean_distance  predicted_fare  \n",
              "0          22.847222       3.521667       16.434245  \n",
              "1          24.470370       3.108889       16.052218  \n",
              "2           7.250000       0.881429        7.053706  \n",
              "3          30.250000       3.700000       18.731650  \n",
              "5          11.855376       2.052258       10.441351  \n",
              "...              ...            ...             ...  \n",
              "22692      18.016667       5.700000       19.426247  \n",
              "22693       8.095370       1.062778        7.300146  \n",
              "22695      59.560417      18.757500       52.000000  \n",
              "22697      16.650000       2.077500       11.707049  \n",
              "22698       9.405556       1.476970        8.600969  \n",
              "\n",
              "[15265 rows x 21 columns]"
            ]
          },
          "execution_count": 8,
          "metadata": {},
          "output_type": "execute_result"
        }
      ],
      "source": [
        "# Subset the data to isolate only customers who paid by credit card\n",
        "#==> ENTER YOUR CODE HERE\n",
        "df1 = df0.loc[df0[\"payment_type\"]==1]\n",
        "df1"
      ]
    },
    {
      "cell_type": "markdown",
      "metadata": {
        "id": "EcYudtSYyMcZ"
      },
      "source": [
        "##### **Target**\n",
        "\n",
        "Notice that there isn't a column that indicates tip percent, which is what you need to create the target variable. You'll have to engineer it.\n",
        "\n",
        "Add a `tip_percent` column to the dataframe by performing the following calculation:  \n",
        "<br/>  \n",
        "\n",
        "\n",
        "$$tip\\ percent = \\frac{tip\\ amount}{total\\ amount - tip\\ amount}$$  \n",
        "\n",
        "Round the result to three places beyond the decimal. **This is an important step.** It affects how many customers are labeled as generous tippers. In fact, without performing this step, approximately 1,800 people who do tip ≥ 20% would be labeled as not generous.\n",
        "\n",
        "To understand why, you must consider how floats work. Computers make their calculations using floating-point arithmetic (hence the word \"float\"). Floating-point arithmetic is a system that allows computers to express both very large numbers and very small numbers with a high degree of precision, encoded in binary. However, precision is limited by the number of bits used to represent a number, which is generally 32 or 64, depending on the capabilities of your operating system.\n",
        "\n",
        "This comes with limitations in that sometimes calculations that should result in clean, precise values end up being encoded as very long decimals. Take, for example, the following calculation:\n"
      ]
    },
    {
      "cell_type": "code",
      "execution_count": null,
      "metadata": {
        "id": "6jXGFx-1WSaS",
        "outputId": "a21074a0-9515-4553-e495-045adf63416c"
      },
      "outputs": [
        {
          "data": {
            "text/plain": [
              "3.3000000000000003"
            ]
          },
          "execution_count": 9,
          "metadata": {},
          "output_type": "execute_result"
        }
      ],
      "source": [
        "# Run this cell\n",
        "1.1 + 2.2"
      ]
    },
    {
      "cell_type": "markdown",
      "metadata": {
        "id": "FeKMReyGWSaS"
      },
      "source": [
        "Notice the three that is 16 places to the right of the decimal. As a consequence, if you were to then have a step in your code that identifies values ≤ 3.3, this would not be included in the result. Therefore, whenever you perform a calculation to compute a number that is then used to make an important decision or filtration, round the number. How many degrees of precision you round to is your decision, which should be based on your use case.\n",
        "\n",
        "Refer to this [guide for more information related to floating-point arithmetic](https://floating-point-gui.de/formats/fp/).  \n",
        "Refer to this [guide for more information related to fixed-point arithmetic](https://inst.eecs.berkeley.edu/~cs61c/sp06/handout/fixedpt.html), which is an alternative to floating-point arithmetic used in certain cases."
      ]
    },
    {
      "cell_type": "markdown",
      "metadata": {
        "id": "Bqb-SWfs-8Xn"
      },
      "source": [
        "Now create another column called `generous`. This will be the target variable. The column should be a binary indicator of whether or not a customer tipped ≥ 20% (0=no, 1=yes).\n",
        "\n",
        "1. Begin by making the `generous` column a copy of the `tip_percent` column.\n",
        "2. Reassign the column by converting it to Boolean (True/False).\n",
        "3. Reassign the column by converting Boolean to binary (1/0)."
      ]
    },
    {
      "cell_type": "code",
      "execution_count": null,
      "metadata": {
        "id": "guanzJd8zBla",
        "outputId": "ca05bec9-cfd3-4d10-af25-6dd9b85a4cf7"
      },
      "outputs": [
        {
          "data": {
            "text/html": [
              "<div>\n",
              "<style scoped>\n",
              "    .dataframe tbody tr th:only-of-type {\n",
              "        vertical-align: middle;\n",
              "    }\n",
              "\n",
              "    .dataframe tbody tr th {\n",
              "        vertical-align: top;\n",
              "    }\n",
              "\n",
              "    .dataframe thead th {\n",
              "        text-align: right;\n",
              "    }\n",
              "</style>\n",
              "<table border=\"1\" class=\"dataframe\">\n",
              "  <thead>\n",
              "    <tr style=\"text-align: right;\">\n",
              "      <th></th>\n",
              "      <th>Unnamed: 0</th>\n",
              "      <th>VendorID</th>\n",
              "      <th>tpep_pickup_datetime</th>\n",
              "      <th>tpep_dropoff_datetime</th>\n",
              "      <th>passenger_count</th>\n",
              "      <th>trip_distance</th>\n",
              "      <th>RatecodeID</th>\n",
              "      <th>store_and_fwd_flag</th>\n",
              "      <th>PULocationID</th>\n",
              "      <th>DOLocationID</th>\n",
              "      <th>payment_type</th>\n",
              "      <th>fare_amount</th>\n",
              "      <th>extra</th>\n",
              "      <th>mta_tax</th>\n",
              "      <th>tip_amount</th>\n",
              "      <th>tolls_amount</th>\n",
              "      <th>improvement_surcharge</th>\n",
              "      <th>total_amount</th>\n",
              "      <th>mean_duration</th>\n",
              "      <th>mean_distance</th>\n",
              "      <th>predicted_fare</th>\n",
              "      <th>tip_percent</th>\n",
              "      <th>generous</th>\n",
              "    </tr>\n",
              "  </thead>\n",
              "  <tbody>\n",
              "    <tr>\n",
              "      <th>0</th>\n",
              "      <td>24870114</td>\n",
              "      <td>2</td>\n",
              "      <td>03/25/2017 8:55:43 AM</td>\n",
              "      <td>03/25/2017 9:09:47 AM</td>\n",
              "      <td>6</td>\n",
              "      <td>3.34</td>\n",
              "      <td>1</td>\n",
              "      <td>N</td>\n",
              "      <td>100</td>\n",
              "      <td>231</td>\n",
              "      <td>1</td>\n",
              "      <td>13.0</td>\n",
              "      <td>0.0</td>\n",
              "      <td>0.5</td>\n",
              "      <td>2.76</td>\n",
              "      <td>0.00</td>\n",
              "      <td>0.3</td>\n",
              "      <td>16.56</td>\n",
              "      <td>22.847222</td>\n",
              "      <td>3.521667</td>\n",
              "      <td>16.434245</td>\n",
              "      <td>True</td>\n",
              "      <td>1</td>\n",
              "    </tr>\n",
              "    <tr>\n",
              "      <th>1</th>\n",
              "      <td>35634249</td>\n",
              "      <td>1</td>\n",
              "      <td>04/11/2017 2:53:28 PM</td>\n",
              "      <td>04/11/2017 3:19:58 PM</td>\n",
              "      <td>1</td>\n",
              "      <td>1.80</td>\n",
              "      <td>1</td>\n",
              "      <td>N</td>\n",
              "      <td>186</td>\n",
              "      <td>43</td>\n",
              "      <td>1</td>\n",
              "      <td>16.0</td>\n",
              "      <td>0.0</td>\n",
              "      <td>0.5</td>\n",
              "      <td>4.00</td>\n",
              "      <td>0.00</td>\n",
              "      <td>0.3</td>\n",
              "      <td>20.80</td>\n",
              "      <td>24.470370</td>\n",
              "      <td>3.108889</td>\n",
              "      <td>16.052218</td>\n",
              "      <td>True</td>\n",
              "      <td>1</td>\n",
              "    </tr>\n",
              "    <tr>\n",
              "      <th>2</th>\n",
              "      <td>106203690</td>\n",
              "      <td>1</td>\n",
              "      <td>12/15/2017 7:26:56 AM</td>\n",
              "      <td>12/15/2017 7:34:08 AM</td>\n",
              "      <td>1</td>\n",
              "      <td>1.00</td>\n",
              "      <td>1</td>\n",
              "      <td>N</td>\n",
              "      <td>262</td>\n",
              "      <td>236</td>\n",
              "      <td>1</td>\n",
              "      <td>6.5</td>\n",
              "      <td>0.0</td>\n",
              "      <td>0.5</td>\n",
              "      <td>1.45</td>\n",
              "      <td>0.00</td>\n",
              "      <td>0.3</td>\n",
              "      <td>8.75</td>\n",
              "      <td>7.250000</td>\n",
              "      <td>0.881429</td>\n",
              "      <td>7.053706</td>\n",
              "      <td>False</td>\n",
              "      <td>0</td>\n",
              "    </tr>\n",
              "    <tr>\n",
              "      <th>3</th>\n",
              "      <td>38942136</td>\n",
              "      <td>2</td>\n",
              "      <td>05/07/2017 1:17:59 PM</td>\n",
              "      <td>05/07/2017 1:48:14 PM</td>\n",
              "      <td>1</td>\n",
              "      <td>3.70</td>\n",
              "      <td>1</td>\n",
              "      <td>N</td>\n",
              "      <td>188</td>\n",
              "      <td>97</td>\n",
              "      <td>1</td>\n",
              "      <td>20.5</td>\n",
              "      <td>0.0</td>\n",
              "      <td>0.5</td>\n",
              "      <td>6.39</td>\n",
              "      <td>0.00</td>\n",
              "      <td>0.3</td>\n",
              "      <td>27.69</td>\n",
              "      <td>30.250000</td>\n",
              "      <td>3.700000</td>\n",
              "      <td>18.731650</td>\n",
              "      <td>True</td>\n",
              "      <td>1</td>\n",
              "    </tr>\n",
              "    <tr>\n",
              "      <th>5</th>\n",
              "      <td>23345809</td>\n",
              "      <td>2</td>\n",
              "      <td>03/25/2017 8:34:11 PM</td>\n",
              "      <td>03/25/2017 8:42:11 PM</td>\n",
              "      <td>6</td>\n",
              "      <td>2.30</td>\n",
              "      <td>1</td>\n",
              "      <td>N</td>\n",
              "      <td>161</td>\n",
              "      <td>236</td>\n",
              "      <td>1</td>\n",
              "      <td>9.0</td>\n",
              "      <td>0.5</td>\n",
              "      <td>0.5</td>\n",
              "      <td>2.06</td>\n",
              "      <td>0.00</td>\n",
              "      <td>0.3</td>\n",
              "      <td>12.36</td>\n",
              "      <td>11.855376</td>\n",
              "      <td>2.052258</td>\n",
              "      <td>10.441351</td>\n",
              "      <td>True</td>\n",
              "      <td>1</td>\n",
              "    </tr>\n",
              "    <tr>\n",
              "      <th>...</th>\n",
              "      <td>...</td>\n",
              "      <td>...</td>\n",
              "      <td>...</td>\n",
              "      <td>...</td>\n",
              "      <td>...</td>\n",
              "      <td>...</td>\n",
              "      <td>...</td>\n",
              "      <td>...</td>\n",
              "      <td>...</td>\n",
              "      <td>...</td>\n",
              "      <td>...</td>\n",
              "      <td>...</td>\n",
              "      <td>...</td>\n",
              "      <td>...</td>\n",
              "      <td>...</td>\n",
              "      <td>...</td>\n",
              "      <td>...</td>\n",
              "      <td>...</td>\n",
              "      <td>...</td>\n",
              "      <td>...</td>\n",
              "      <td>...</td>\n",
              "      <td>...</td>\n",
              "      <td>...</td>\n",
              "    </tr>\n",
              "    <tr>\n",
              "      <th>22692</th>\n",
              "      <td>60425673</td>\n",
              "      <td>1</td>\n",
              "      <td>07/16/2017 3:22:51 AM</td>\n",
              "      <td>07/16/2017 3:40:52 AM</td>\n",
              "      <td>1</td>\n",
              "      <td>5.70</td>\n",
              "      <td>1</td>\n",
              "      <td>N</td>\n",
              "      <td>249</td>\n",
              "      <td>17</td>\n",
              "      <td>1</td>\n",
              "      <td>19.0</td>\n",
              "      <td>0.5</td>\n",
              "      <td>0.5</td>\n",
              "      <td>4.05</td>\n",
              "      <td>0.00</td>\n",
              "      <td>0.3</td>\n",
              "      <td>24.35</td>\n",
              "      <td>18.016667</td>\n",
              "      <td>5.700000</td>\n",
              "      <td>19.426247</td>\n",
              "      <td>True</td>\n",
              "      <td>1</td>\n",
              "    </tr>\n",
              "    <tr>\n",
              "      <th>22693</th>\n",
              "      <td>67858616</td>\n",
              "      <td>2</td>\n",
              "      <td>08/10/2017 10:20:04 PM</td>\n",
              "      <td>08/10/2017 10:29:31 PM</td>\n",
              "      <td>1</td>\n",
              "      <td>0.89</td>\n",
              "      <td>1</td>\n",
              "      <td>N</td>\n",
              "      <td>229</td>\n",
              "      <td>170</td>\n",
              "      <td>1</td>\n",
              "      <td>7.5</td>\n",
              "      <td>0.5</td>\n",
              "      <td>0.5</td>\n",
              "      <td>1.76</td>\n",
              "      <td>0.00</td>\n",
              "      <td>0.3</td>\n",
              "      <td>10.56</td>\n",
              "      <td>8.095370</td>\n",
              "      <td>1.062778</td>\n",
              "      <td>7.300146</td>\n",
              "      <td>True</td>\n",
              "      <td>1</td>\n",
              "    </tr>\n",
              "    <tr>\n",
              "      <th>22695</th>\n",
              "      <td>66632549</td>\n",
              "      <td>2</td>\n",
              "      <td>08/06/2017 4:43:59 PM</td>\n",
              "      <td>08/06/2017 5:24:47 PM</td>\n",
              "      <td>1</td>\n",
              "      <td>16.71</td>\n",
              "      <td>2</td>\n",
              "      <td>N</td>\n",
              "      <td>132</td>\n",
              "      <td>164</td>\n",
              "      <td>1</td>\n",
              "      <td>52.0</td>\n",
              "      <td>0.0</td>\n",
              "      <td>0.5</td>\n",
              "      <td>14.64</td>\n",
              "      <td>5.76</td>\n",
              "      <td>0.3</td>\n",
              "      <td>73.20</td>\n",
              "      <td>59.560417</td>\n",
              "      <td>18.757500</td>\n",
              "      <td>52.000000</td>\n",
              "      <td>True</td>\n",
              "      <td>1</td>\n",
              "    </tr>\n",
              "    <tr>\n",
              "      <th>22697</th>\n",
              "      <td>60217333</td>\n",
              "      <td>2</td>\n",
              "      <td>07/15/2017 12:56:30 PM</td>\n",
              "      <td>07/15/2017 1:08:26 PM</td>\n",
              "      <td>1</td>\n",
              "      <td>2.36</td>\n",
              "      <td>1</td>\n",
              "      <td>N</td>\n",
              "      <td>68</td>\n",
              "      <td>144</td>\n",
              "      <td>1</td>\n",
              "      <td>10.5</td>\n",
              "      <td>0.0</td>\n",
              "      <td>0.5</td>\n",
              "      <td>1.70</td>\n",
              "      <td>0.00</td>\n",
              "      <td>0.3</td>\n",
              "      <td>13.00</td>\n",
              "      <td>16.650000</td>\n",
              "      <td>2.077500</td>\n",
              "      <td>11.707049</td>\n",
              "      <td>False</td>\n",
              "      <td>0</td>\n",
              "    </tr>\n",
              "    <tr>\n",
              "      <th>22698</th>\n",
              "      <td>17208911</td>\n",
              "      <td>1</td>\n",
              "      <td>03/02/2017 1:02:49 PM</td>\n",
              "      <td>03/02/2017 1:16:09 PM</td>\n",
              "      <td>1</td>\n",
              "      <td>2.10</td>\n",
              "      <td>1</td>\n",
              "      <td>N</td>\n",
              "      <td>239</td>\n",
              "      <td>236</td>\n",
              "      <td>1</td>\n",
              "      <td>11.0</td>\n",
              "      <td>0.0</td>\n",
              "      <td>0.5</td>\n",
              "      <td>2.35</td>\n",
              "      <td>0.00</td>\n",
              "      <td>0.3</td>\n",
              "      <td>14.15</td>\n",
              "      <td>9.405556</td>\n",
              "      <td>1.476970</td>\n",
              "      <td>8.600969</td>\n",
              "      <td>False</td>\n",
              "      <td>0</td>\n",
              "    </tr>\n",
              "  </tbody>\n",
              "</table>\n",
              "<p>15265 rows × 23 columns</p>\n",
              "</div>"
            ],
            "text/plain": [
              "       Unnamed: 0  VendorID    tpep_pickup_datetime   tpep_dropoff_datetime  \\\n",
              "0        24870114         2   03/25/2017 8:55:43 AM   03/25/2017 9:09:47 AM   \n",
              "1        35634249         1   04/11/2017 2:53:28 PM   04/11/2017 3:19:58 PM   \n",
              "2       106203690         1   12/15/2017 7:26:56 AM   12/15/2017 7:34:08 AM   \n",
              "3        38942136         2   05/07/2017 1:17:59 PM   05/07/2017 1:48:14 PM   \n",
              "5        23345809         2   03/25/2017 8:34:11 PM   03/25/2017 8:42:11 PM   \n",
              "...           ...       ...                     ...                     ...   \n",
              "22692    60425673         1   07/16/2017 3:22:51 AM   07/16/2017 3:40:52 AM   \n",
              "22693    67858616         2  08/10/2017 10:20:04 PM  08/10/2017 10:29:31 PM   \n",
              "22695    66632549         2   08/06/2017 4:43:59 PM   08/06/2017 5:24:47 PM   \n",
              "22697    60217333         2  07/15/2017 12:56:30 PM   07/15/2017 1:08:26 PM   \n",
              "22698    17208911         1   03/02/2017 1:02:49 PM   03/02/2017 1:16:09 PM   \n",
              "\n",
              "       passenger_count  trip_distance  RatecodeID store_and_fwd_flag  \\\n",
              "0                    6           3.34           1                  N   \n",
              "1                    1           1.80           1                  N   \n",
              "2                    1           1.00           1                  N   \n",
              "3                    1           3.70           1                  N   \n",
              "5                    6           2.30           1                  N   \n",
              "...                ...            ...         ...                ...   \n",
              "22692                1           5.70           1                  N   \n",
              "22693                1           0.89           1                  N   \n",
              "22695                1          16.71           2                  N   \n",
              "22697                1           2.36           1                  N   \n",
              "22698                1           2.10           1                  N   \n",
              "\n",
              "       PULocationID  DOLocationID  payment_type  fare_amount  extra  mta_tax  \\\n",
              "0               100           231             1         13.0    0.0      0.5   \n",
              "1               186            43             1         16.0    0.0      0.5   \n",
              "2               262           236             1          6.5    0.0      0.5   \n",
              "3               188            97             1         20.5    0.0      0.5   \n",
              "5               161           236             1          9.0    0.5      0.5   \n",
              "...             ...           ...           ...          ...    ...      ...   \n",
              "22692           249            17             1         19.0    0.5      0.5   \n",
              "22693           229           170             1          7.5    0.5      0.5   \n",
              "22695           132           164             1         52.0    0.0      0.5   \n",
              "22697            68           144             1         10.5    0.0      0.5   \n",
              "22698           239           236             1         11.0    0.0      0.5   \n",
              "\n",
              "       tip_amount  tolls_amount  improvement_surcharge  total_amount  \\\n",
              "0            2.76          0.00                    0.3         16.56   \n",
              "1            4.00          0.00                    0.3         20.80   \n",
              "2            1.45          0.00                    0.3          8.75   \n",
              "3            6.39          0.00                    0.3         27.69   \n",
              "5            2.06          0.00                    0.3         12.36   \n",
              "...           ...           ...                    ...           ...   \n",
              "22692        4.05          0.00                    0.3         24.35   \n",
              "22693        1.76          0.00                    0.3         10.56   \n",
              "22695       14.64          5.76                    0.3         73.20   \n",
              "22697        1.70          0.00                    0.3         13.00   \n",
              "22698        2.35          0.00                    0.3         14.15   \n",
              "\n",
              "       mean_duration  mean_distance  predicted_fare  tip_percent  generous  \n",
              "0          22.847222       3.521667       16.434245         True         1  \n",
              "1          24.470370       3.108889       16.052218         True         1  \n",
              "2           7.250000       0.881429        7.053706        False         0  \n",
              "3          30.250000       3.700000       18.731650         True         1  \n",
              "5          11.855376       2.052258       10.441351         True         1  \n",
              "...              ...            ...             ...          ...       ...  \n",
              "22692      18.016667       5.700000       19.426247         True         1  \n",
              "22693       8.095370       1.062778        7.300146         True         1  \n",
              "22695      59.560417      18.757500       52.000000         True         1  \n",
              "22697      16.650000       2.077500       11.707049        False         0  \n",
              "22698       9.405556       1.476970        8.600969        False         0  \n",
              "\n",
              "[15265 rows x 23 columns]"
            ]
          },
          "execution_count": 10,
          "metadata": {},
          "output_type": "execute_result"
        }
      ],
      "source": [
        "# Create tip % col\n",
        "#==> ENTER YOUR CODE HERE\n",
        "df2 = df1.copy()\n",
        "df2[\"tip_percent\"] = round((df2[\"tip_amount\"])/(df2[\"total_amount\"]-df2[\"tip_amount\"]), 3)\n",
        "df2[\"tip_percent\"] = df2[\"tip_percent\"] >= 0.2\n",
        "df2[\"generous\"] = df2[\"tip_percent\"].apply(lambda x: 1 if x == True else 0)\n",
        "df2"
      ]
    },
    {
      "cell_type": "code",
      "execution_count": null,
      "metadata": {
        "id": "nqDSe0DSGwhB",
        "outputId": "b1cc1213-eb0c-429a-d41b-6d5f2dc21f4f"
      },
      "outputs": [
        {
          "name": "stdout",
          "output_type": "stream",
          "text": [
            "<class 'pandas.core.frame.DataFrame'>\n",
            "Int64Index: 15265 entries, 0 to 22698\n",
            "Data columns (total 23 columns):\n",
            " #   Column                 Non-Null Count  Dtype  \n",
            "---  ------                 --------------  -----  \n",
            " 0   Unnamed: 0             15265 non-null  int64  \n",
            " 1   VendorID               15265 non-null  int64  \n",
            " 2   tpep_pickup_datetime   15265 non-null  object \n",
            " 3   tpep_dropoff_datetime  15265 non-null  object \n",
            " 4   passenger_count        15265 non-null  int64  \n",
            " 5   trip_distance          15265 non-null  float64\n",
            " 6   RatecodeID             15265 non-null  int64  \n",
            " 7   store_and_fwd_flag     15265 non-null  object \n",
            " 8   PULocationID           15265 non-null  int64  \n",
            " 9   DOLocationID           15265 non-null  int64  \n",
            " 10  payment_type           15265 non-null  int64  \n",
            " 11  fare_amount            15265 non-null  float64\n",
            " 12  extra                  15265 non-null  float64\n",
            " 13  mta_tax                15265 non-null  float64\n",
            " 14  tip_amount             15265 non-null  float64\n",
            " 15  tolls_amount           15265 non-null  float64\n",
            " 16  improvement_surcharge  15265 non-null  float64\n",
            " 17  total_amount           15265 non-null  float64\n",
            " 18  mean_duration          15265 non-null  float64\n",
            " 19  mean_distance          15265 non-null  float64\n",
            " 20  predicted_fare         15265 non-null  float64\n",
            " 21  tip_percent            15265 non-null  bool   \n",
            " 22  generous               15265 non-null  int64  \n",
            "dtypes: bool(1), float64(11), int64(8), object(3)\n",
            "memory usage: 2.7+ MB\n"
          ]
        }
      ],
      "source": [
        "df2.info()"
      ]
    },
    {
      "cell_type": "markdown",
      "metadata": {
        "id": "PR2qHvWwWSaT"
      },
      "source": [
        "#### Create day column"
      ]
    },
    {
      "cell_type": "markdown",
      "metadata": {
        "id": "H27zUVIlkaxA"
      },
      "source": [
        "Next, you're going to be working with the pickup and dropoff columns.\n",
        "\n",
        "Convert the `tpep_pickup_datetime` and `tpep_dropoff_datetime` columns to datetime."
      ]
    },
    {
      "cell_type": "code",
      "execution_count": null,
      "metadata": {
        "id": "OIycxWBMkafJ"
      },
      "outputs": [],
      "source": [
        "# Convert pickup and dropoff cols to datetime\n",
        "df2[\"tpep_pickup_datetime\"] = pd.to_datetime(df2[\"tpep_pickup_datetime\"])\n",
        "df2[\"tpep_dropoff_datetime\"] = pd.to_datetime(df2[\"tpep_dropoff_datetime\"])\n",
        "#==> ENTER YOUR CODE HERE"
      ]
    },
    {
      "cell_type": "markdown",
      "metadata": {
        "id": "zpcM4FvNyPFY"
      },
      "source": [
        "Create a `day` column that contains only the day of the week when each passenger was picked up. Then, convert the values to lowercase."
      ]
    },
    {
      "cell_type": "code",
      "execution_count": null,
      "metadata": {
        "id": "abUvtMaYyWpD"
      },
      "outputs": [],
      "source": [
        "# Create a 'day' col\n",
        "df2[\"day\"] = df2[\"tpep_pickup_datetime\"].dt.day_name().str.lower()\n",
        "#==> ENTER YOUR CODE HERE"
      ]
    },
    {
      "cell_type": "code",
      "execution_count": null,
      "metadata": {
        "id": "yYiuUwLuWSaT",
        "outputId": "87419b23-fe8a-4e19-a386-1c527556fe8b"
      },
      "outputs": [
        {
          "data": {
            "text/html": [
              "<div>\n",
              "<style scoped>\n",
              "    .dataframe tbody tr th:only-of-type {\n",
              "        vertical-align: middle;\n",
              "    }\n",
              "\n",
              "    .dataframe tbody tr th {\n",
              "        vertical-align: top;\n",
              "    }\n",
              "\n",
              "    .dataframe thead th {\n",
              "        text-align: right;\n",
              "    }\n",
              "</style>\n",
              "<table border=\"1\" class=\"dataframe\">\n",
              "  <thead>\n",
              "    <tr style=\"text-align: right;\">\n",
              "      <th></th>\n",
              "      <th>Unnamed: 0</th>\n",
              "      <th>VendorID</th>\n",
              "      <th>tpep_pickup_datetime</th>\n",
              "      <th>tpep_dropoff_datetime</th>\n",
              "      <th>passenger_count</th>\n",
              "      <th>trip_distance</th>\n",
              "      <th>RatecodeID</th>\n",
              "      <th>store_and_fwd_flag</th>\n",
              "      <th>PULocationID</th>\n",
              "      <th>DOLocationID</th>\n",
              "      <th>payment_type</th>\n",
              "      <th>fare_amount</th>\n",
              "      <th>extra</th>\n",
              "      <th>mta_tax</th>\n",
              "      <th>tip_amount</th>\n",
              "      <th>tolls_amount</th>\n",
              "      <th>improvement_surcharge</th>\n",
              "      <th>total_amount</th>\n",
              "      <th>mean_duration</th>\n",
              "      <th>mean_distance</th>\n",
              "      <th>predicted_fare</th>\n",
              "      <th>tip_percent</th>\n",
              "      <th>generous</th>\n",
              "      <th>day</th>\n",
              "    </tr>\n",
              "  </thead>\n",
              "  <tbody>\n",
              "    <tr>\n",
              "      <th>0</th>\n",
              "      <td>24870114</td>\n",
              "      <td>2</td>\n",
              "      <td>2017-03-25 08:55:43</td>\n",
              "      <td>2017-03-25 09:09:47</td>\n",
              "      <td>6</td>\n",
              "      <td>3.34</td>\n",
              "      <td>1</td>\n",
              "      <td>N</td>\n",
              "      <td>100</td>\n",
              "      <td>231</td>\n",
              "      <td>1</td>\n",
              "      <td>13.0</td>\n",
              "      <td>0.0</td>\n",
              "      <td>0.5</td>\n",
              "      <td>2.76</td>\n",
              "      <td>0.00</td>\n",
              "      <td>0.3</td>\n",
              "      <td>16.56</td>\n",
              "      <td>22.847222</td>\n",
              "      <td>3.521667</td>\n",
              "      <td>16.434245</td>\n",
              "      <td>True</td>\n",
              "      <td>1</td>\n",
              "      <td>saturday</td>\n",
              "    </tr>\n",
              "    <tr>\n",
              "      <th>1</th>\n",
              "      <td>35634249</td>\n",
              "      <td>1</td>\n",
              "      <td>2017-04-11 14:53:28</td>\n",
              "      <td>2017-04-11 15:19:58</td>\n",
              "      <td>1</td>\n",
              "      <td>1.80</td>\n",
              "      <td>1</td>\n",
              "      <td>N</td>\n",
              "      <td>186</td>\n",
              "      <td>43</td>\n",
              "      <td>1</td>\n",
              "      <td>16.0</td>\n",
              "      <td>0.0</td>\n",
              "      <td>0.5</td>\n",
              "      <td>4.00</td>\n",
              "      <td>0.00</td>\n",
              "      <td>0.3</td>\n",
              "      <td>20.80</td>\n",
              "      <td>24.470370</td>\n",
              "      <td>3.108889</td>\n",
              "      <td>16.052218</td>\n",
              "      <td>True</td>\n",
              "      <td>1</td>\n",
              "      <td>tuesday</td>\n",
              "    </tr>\n",
              "    <tr>\n",
              "      <th>2</th>\n",
              "      <td>106203690</td>\n",
              "      <td>1</td>\n",
              "      <td>2017-12-15 07:26:56</td>\n",
              "      <td>2017-12-15 07:34:08</td>\n",
              "      <td>1</td>\n",
              "      <td>1.00</td>\n",
              "      <td>1</td>\n",
              "      <td>N</td>\n",
              "      <td>262</td>\n",
              "      <td>236</td>\n",
              "      <td>1</td>\n",
              "      <td>6.5</td>\n",
              "      <td>0.0</td>\n",
              "      <td>0.5</td>\n",
              "      <td>1.45</td>\n",
              "      <td>0.00</td>\n",
              "      <td>0.3</td>\n",
              "      <td>8.75</td>\n",
              "      <td>7.250000</td>\n",
              "      <td>0.881429</td>\n",
              "      <td>7.053706</td>\n",
              "      <td>False</td>\n",
              "      <td>0</td>\n",
              "      <td>friday</td>\n",
              "    </tr>\n",
              "    <tr>\n",
              "      <th>3</th>\n",
              "      <td>38942136</td>\n",
              "      <td>2</td>\n",
              "      <td>2017-05-07 13:17:59</td>\n",
              "      <td>2017-05-07 13:48:14</td>\n",
              "      <td>1</td>\n",
              "      <td>3.70</td>\n",
              "      <td>1</td>\n",
              "      <td>N</td>\n",
              "      <td>188</td>\n",
              "      <td>97</td>\n",
              "      <td>1</td>\n",
              "      <td>20.5</td>\n",
              "      <td>0.0</td>\n",
              "      <td>0.5</td>\n",
              "      <td>6.39</td>\n",
              "      <td>0.00</td>\n",
              "      <td>0.3</td>\n",
              "      <td>27.69</td>\n",
              "      <td>30.250000</td>\n",
              "      <td>3.700000</td>\n",
              "      <td>18.731650</td>\n",
              "      <td>True</td>\n",
              "      <td>1</td>\n",
              "      <td>sunday</td>\n",
              "    </tr>\n",
              "    <tr>\n",
              "      <th>5</th>\n",
              "      <td>23345809</td>\n",
              "      <td>2</td>\n",
              "      <td>2017-03-25 20:34:11</td>\n",
              "      <td>2017-03-25 20:42:11</td>\n",
              "      <td>6</td>\n",
              "      <td>2.30</td>\n",
              "      <td>1</td>\n",
              "      <td>N</td>\n",
              "      <td>161</td>\n",
              "      <td>236</td>\n",
              "      <td>1</td>\n",
              "      <td>9.0</td>\n",
              "      <td>0.5</td>\n",
              "      <td>0.5</td>\n",
              "      <td>2.06</td>\n",
              "      <td>0.00</td>\n",
              "      <td>0.3</td>\n",
              "      <td>12.36</td>\n",
              "      <td>11.855376</td>\n",
              "      <td>2.052258</td>\n",
              "      <td>10.441351</td>\n",
              "      <td>True</td>\n",
              "      <td>1</td>\n",
              "      <td>saturday</td>\n",
              "    </tr>\n",
              "    <tr>\n",
              "      <th>...</th>\n",
              "      <td>...</td>\n",
              "      <td>...</td>\n",
              "      <td>...</td>\n",
              "      <td>...</td>\n",
              "      <td>...</td>\n",
              "      <td>...</td>\n",
              "      <td>...</td>\n",
              "      <td>...</td>\n",
              "      <td>...</td>\n",
              "      <td>...</td>\n",
              "      <td>...</td>\n",
              "      <td>...</td>\n",
              "      <td>...</td>\n",
              "      <td>...</td>\n",
              "      <td>...</td>\n",
              "      <td>...</td>\n",
              "      <td>...</td>\n",
              "      <td>...</td>\n",
              "      <td>...</td>\n",
              "      <td>...</td>\n",
              "      <td>...</td>\n",
              "      <td>...</td>\n",
              "      <td>...</td>\n",
              "      <td>...</td>\n",
              "    </tr>\n",
              "    <tr>\n",
              "      <th>22692</th>\n",
              "      <td>60425673</td>\n",
              "      <td>1</td>\n",
              "      <td>2017-07-16 03:22:51</td>\n",
              "      <td>2017-07-16 03:40:52</td>\n",
              "      <td>1</td>\n",
              "      <td>5.70</td>\n",
              "      <td>1</td>\n",
              "      <td>N</td>\n",
              "      <td>249</td>\n",
              "      <td>17</td>\n",
              "      <td>1</td>\n",
              "      <td>19.0</td>\n",
              "      <td>0.5</td>\n",
              "      <td>0.5</td>\n",
              "      <td>4.05</td>\n",
              "      <td>0.00</td>\n",
              "      <td>0.3</td>\n",
              "      <td>24.35</td>\n",
              "      <td>18.016667</td>\n",
              "      <td>5.700000</td>\n",
              "      <td>19.426247</td>\n",
              "      <td>True</td>\n",
              "      <td>1</td>\n",
              "      <td>sunday</td>\n",
              "    </tr>\n",
              "    <tr>\n",
              "      <th>22693</th>\n",
              "      <td>67858616</td>\n",
              "      <td>2</td>\n",
              "      <td>2017-08-10 22:20:04</td>\n",
              "      <td>2017-08-10 22:29:31</td>\n",
              "      <td>1</td>\n",
              "      <td>0.89</td>\n",
              "      <td>1</td>\n",
              "      <td>N</td>\n",
              "      <td>229</td>\n",
              "      <td>170</td>\n",
              "      <td>1</td>\n",
              "      <td>7.5</td>\n",
              "      <td>0.5</td>\n",
              "      <td>0.5</td>\n",
              "      <td>1.76</td>\n",
              "      <td>0.00</td>\n",
              "      <td>0.3</td>\n",
              "      <td>10.56</td>\n",
              "      <td>8.095370</td>\n",
              "      <td>1.062778</td>\n",
              "      <td>7.300146</td>\n",
              "      <td>True</td>\n",
              "      <td>1</td>\n",
              "      <td>thursday</td>\n",
              "    </tr>\n",
              "    <tr>\n",
              "      <th>22695</th>\n",
              "      <td>66632549</td>\n",
              "      <td>2</td>\n",
              "      <td>2017-08-06 16:43:59</td>\n",
              "      <td>2017-08-06 17:24:47</td>\n",
              "      <td>1</td>\n",
              "      <td>16.71</td>\n",
              "      <td>2</td>\n",
              "      <td>N</td>\n",
              "      <td>132</td>\n",
              "      <td>164</td>\n",
              "      <td>1</td>\n",
              "      <td>52.0</td>\n",
              "      <td>0.0</td>\n",
              "      <td>0.5</td>\n",
              "      <td>14.64</td>\n",
              "      <td>5.76</td>\n",
              "      <td>0.3</td>\n",
              "      <td>73.20</td>\n",
              "      <td>59.560417</td>\n",
              "      <td>18.757500</td>\n",
              "      <td>52.000000</td>\n",
              "      <td>True</td>\n",
              "      <td>1</td>\n",
              "      <td>sunday</td>\n",
              "    </tr>\n",
              "    <tr>\n",
              "      <th>22697</th>\n",
              "      <td>60217333</td>\n",
              "      <td>2</td>\n",
              "      <td>2017-07-15 12:56:30</td>\n",
              "      <td>2017-07-15 13:08:26</td>\n",
              "      <td>1</td>\n",
              "      <td>2.36</td>\n",
              "      <td>1</td>\n",
              "      <td>N</td>\n",
              "      <td>68</td>\n",
              "      <td>144</td>\n",
              "      <td>1</td>\n",
              "      <td>10.5</td>\n",
              "      <td>0.0</td>\n",
              "      <td>0.5</td>\n",
              "      <td>1.70</td>\n",
              "      <td>0.00</td>\n",
              "      <td>0.3</td>\n",
              "      <td>13.00</td>\n",
              "      <td>16.650000</td>\n",
              "      <td>2.077500</td>\n",
              "      <td>11.707049</td>\n",
              "      <td>False</td>\n",
              "      <td>0</td>\n",
              "      <td>saturday</td>\n",
              "    </tr>\n",
              "    <tr>\n",
              "      <th>22698</th>\n",
              "      <td>17208911</td>\n",
              "      <td>1</td>\n",
              "      <td>2017-03-02 13:02:49</td>\n",
              "      <td>2017-03-02 13:16:09</td>\n",
              "      <td>1</td>\n",
              "      <td>2.10</td>\n",
              "      <td>1</td>\n",
              "      <td>N</td>\n",
              "      <td>239</td>\n",
              "      <td>236</td>\n",
              "      <td>1</td>\n",
              "      <td>11.0</td>\n",
              "      <td>0.0</td>\n",
              "      <td>0.5</td>\n",
              "      <td>2.35</td>\n",
              "      <td>0.00</td>\n",
              "      <td>0.3</td>\n",
              "      <td>14.15</td>\n",
              "      <td>9.405556</td>\n",
              "      <td>1.476970</td>\n",
              "      <td>8.600969</td>\n",
              "      <td>False</td>\n",
              "      <td>0</td>\n",
              "      <td>thursday</td>\n",
              "    </tr>\n",
              "  </tbody>\n",
              "</table>\n",
              "<p>15265 rows × 24 columns</p>\n",
              "</div>"
            ],
            "text/plain": [
              "       Unnamed: 0  VendorID tpep_pickup_datetime tpep_dropoff_datetime  \\\n",
              "0        24870114         2  2017-03-25 08:55:43   2017-03-25 09:09:47   \n",
              "1        35634249         1  2017-04-11 14:53:28   2017-04-11 15:19:58   \n",
              "2       106203690         1  2017-12-15 07:26:56   2017-12-15 07:34:08   \n",
              "3        38942136         2  2017-05-07 13:17:59   2017-05-07 13:48:14   \n",
              "5        23345809         2  2017-03-25 20:34:11   2017-03-25 20:42:11   \n",
              "...           ...       ...                  ...                   ...   \n",
              "22692    60425673         1  2017-07-16 03:22:51   2017-07-16 03:40:52   \n",
              "22693    67858616         2  2017-08-10 22:20:04   2017-08-10 22:29:31   \n",
              "22695    66632549         2  2017-08-06 16:43:59   2017-08-06 17:24:47   \n",
              "22697    60217333         2  2017-07-15 12:56:30   2017-07-15 13:08:26   \n",
              "22698    17208911         1  2017-03-02 13:02:49   2017-03-02 13:16:09   \n",
              "\n",
              "       passenger_count  trip_distance  RatecodeID store_and_fwd_flag  \\\n",
              "0                    6           3.34           1                  N   \n",
              "1                    1           1.80           1                  N   \n",
              "2                    1           1.00           1                  N   \n",
              "3                    1           3.70           1                  N   \n",
              "5                    6           2.30           1                  N   \n",
              "...                ...            ...         ...                ...   \n",
              "22692                1           5.70           1                  N   \n",
              "22693                1           0.89           1                  N   \n",
              "22695                1          16.71           2                  N   \n",
              "22697                1           2.36           1                  N   \n",
              "22698                1           2.10           1                  N   \n",
              "\n",
              "       PULocationID  DOLocationID  payment_type  fare_amount  extra  mta_tax  \\\n",
              "0               100           231             1         13.0    0.0      0.5   \n",
              "1               186            43             1         16.0    0.0      0.5   \n",
              "2               262           236             1          6.5    0.0      0.5   \n",
              "3               188            97             1         20.5    0.0      0.5   \n",
              "5               161           236             1          9.0    0.5      0.5   \n",
              "...             ...           ...           ...          ...    ...      ...   \n",
              "22692           249            17             1         19.0    0.5      0.5   \n",
              "22693           229           170             1          7.5    0.5      0.5   \n",
              "22695           132           164             1         52.0    0.0      0.5   \n",
              "22697            68           144             1         10.5    0.0      0.5   \n",
              "22698           239           236             1         11.0    0.0      0.5   \n",
              "\n",
              "       tip_amount  tolls_amount  improvement_surcharge  total_amount  \\\n",
              "0            2.76          0.00                    0.3         16.56   \n",
              "1            4.00          0.00                    0.3         20.80   \n",
              "2            1.45          0.00                    0.3          8.75   \n",
              "3            6.39          0.00                    0.3         27.69   \n",
              "5            2.06          0.00                    0.3         12.36   \n",
              "...           ...           ...                    ...           ...   \n",
              "22692        4.05          0.00                    0.3         24.35   \n",
              "22693        1.76          0.00                    0.3         10.56   \n",
              "22695       14.64          5.76                    0.3         73.20   \n",
              "22697        1.70          0.00                    0.3         13.00   \n",
              "22698        2.35          0.00                    0.3         14.15   \n",
              "\n",
              "       mean_duration  mean_distance  predicted_fare  tip_percent  generous  \\\n",
              "0          22.847222       3.521667       16.434245         True         1   \n",
              "1          24.470370       3.108889       16.052218         True         1   \n",
              "2           7.250000       0.881429        7.053706        False         0   \n",
              "3          30.250000       3.700000       18.731650         True         1   \n",
              "5          11.855376       2.052258       10.441351         True         1   \n",
              "...              ...            ...             ...          ...       ...   \n",
              "22692      18.016667       5.700000       19.426247         True         1   \n",
              "22693       8.095370       1.062778        7.300146         True         1   \n",
              "22695      59.560417      18.757500       52.000000         True         1   \n",
              "22697      16.650000       2.077500       11.707049        False         0   \n",
              "22698       9.405556       1.476970        8.600969        False         0   \n",
              "\n",
              "            day  \n",
              "0      saturday  \n",
              "1       tuesday  \n",
              "2        friday  \n",
              "3        sunday  \n",
              "5      saturday  \n",
              "...         ...  \n",
              "22692    sunday  \n",
              "22693  thursday  \n",
              "22695    sunday  \n",
              "22697  saturday  \n",
              "22698  thursday  \n",
              "\n",
              "[15265 rows x 24 columns]"
            ]
          },
          "execution_count": 15,
          "metadata": {},
          "output_type": "execute_result"
        }
      ],
      "source": [
        "df2"
      ]
    },
    {
      "cell_type": "markdown",
      "metadata": {
        "id": "rti5PqFSWSaU"
      },
      "source": [
        "#### Create time of day columns"
      ]
    },
    {
      "cell_type": "markdown",
      "metadata": {
        "id": "HwslVt8Hpu7x"
      },
      "source": [
        "Next, engineer four new columns that represent time of day bins. Each column should contain binary values (0=no, 1=yes) that indicate whether a trip began (picked up) during the following times:\n",
        "\n",
        "`am_rush` = [06:00&ndash;10:00)  \n",
        "`daytime` = [10:00&ndash;16:00)  \n",
        "`pm_rush` = [16:00&ndash;20:00)  \n",
        "`nighttime` = [20:00&ndash;06:00)  \n",
        "\n",
        "To do this, first create the four columns. For now, each new column should be identical and contain the same information: the hour (only) from the `tpep_pickup_datetime` column."
      ]
    },
    {
      "cell_type": "code",
      "execution_count": null,
      "metadata": {
        "id": "x8LFySUyprau",
        "outputId": "c06718b9-cd1c-446b-a7cb-734a98534c93"
      },
      "outputs": [
        {
          "name": "stdout",
          "output_type": "stream",
          "text": [
            "0    12785\n",
            "1     2480\n",
            "Name: am_rush, dtype: int64\n",
            "0    10977\n",
            "1     4288\n",
            "Name: daytime, dtype: int64\n",
            "0    11727\n",
            "1     3538\n",
            "Name: pm_rush, dtype: int64\n",
            "0    10306\n",
            "1     4959\n",
            "Name: nighttime, dtype: int64\n"
          ]
        }
      ],
      "source": [
        "# Create 'am_rush' col\n",
        "#==> ENTER YOUR CODE HERE\n",
        "df2[\"am_rush\"] = df2[\"tpep_pickup_datetime\"].dt.hour.astype(int)\n",
        "df2[\"am_rush\"] = df2[\"am_rush\"].apply(lambda x: 1 if 6 <= x < 10 else 0)\n",
        "\n",
        "# Create 'daytime' col\n",
        "#==> ENTER YOUR CODE HERE\n",
        "df2[\"daytime\"] = df2[\"tpep_pickup_datetime\"].dt.hour.astype(int)\n",
        "df2[\"daytime\"] = df2[\"daytime\"].apply(lambda x: 1 if 10 <= x < 16 else 0)\n",
        "\n",
        "# Create 'pm_rush' col\n",
        "#==> ENTER YOUR CODE HERE\n",
        "df2[\"pm_rush\"] = df2[\"tpep_pickup_datetime\"].dt.hour.astype(int)\n",
        "df2[\"pm_rush\"] = df2[\"pm_rush\"].apply(lambda x: 1 if 16 <= x < 20  else 0)\n",
        "# Create 'nighttime' col\n",
        "#==> ENTER YOUR CODE HERE\n",
        "df2[\"nighttime\"] = df2[\"tpep_pickup_datetime\"].dt.hour.astype(int)\n",
        "df2[\"nighttime\"] = df2[\"nighttime\"].apply(lambda x: 1 if 20 <= x < 24  else 1 if 0 <= x < 6 else 0)\n",
        "\n",
        "print(df2[\"am_rush\"].value_counts())\n",
        "print(df2[\"daytime\"].value_counts())\n",
        "print(df2[\"pm_rush\"].value_counts())\n",
        "print(df2[\"nighttime\"].value_counts())"
      ]
    },
    {
      "cell_type": "markdown",
      "metadata": {
        "id": "HDyfsTDvwORL"
      },
      "source": [
        "You'll need to write four functions to convert each new column to binary (0/1). Begin with `am_rush`. Complete the function so if the hour is between [06:00–10:00), it returns 1, otherwise, it returns 0."
      ]
    },
    {
      "cell_type": "code",
      "execution_count": null,
      "metadata": {
        "id": "3_jXP2z8WSaV"
      },
      "outputs": [],
      "source": [
        "df2[\"am_rush\"] = df2[\"tpep_pickup_datetime\"].dt.hour.astype(int)"
      ]
    },
    {
      "cell_type": "code",
      "execution_count": null,
      "metadata": {
        "id": "oAE4vRz0wGtN"
      },
      "outputs": [],
      "source": [
        "# Define 'am_rush()' conversion function [06:00–10:00)\n",
        "    #==> ENTER YOUR CODE HERE\n",
        "def am_rush(hour):\n",
        "    if 6 <= hour[\"am_rush\"] < 10:\n",
        "        val = 1\n",
        "    else:\n",
        "        val = 0\n",
        "    return val"
      ]
    },
    {
      "cell_type": "markdown",
      "metadata": {
        "id": "hHY1-6cIxfA6"
      },
      "source": [
        "Now, apply the `am_rush()` function to the `am_rush` series to perform the conversion. Print the first five values of the column to make sure it did what you expected it to do.\n",
        "\n",
        "**Note:** Be careful! If you run this cell twice, the function will be reapplied and the values will all be changed to 0."
      ]
    },
    {
      "cell_type": "code",
      "execution_count": null,
      "metadata": {
        "id": "sWFojyk9xdDY",
        "outputId": "238200e5-5cfa-4934-96c9-fb5f07a65816"
      },
      "outputs": [
        {
          "data": {
            "text/plain": [
              "0    12785\n",
              "1     2480\n",
              "Name: am_rush, dtype: int64"
            ]
          },
          "execution_count": 19,
          "metadata": {},
          "output_type": "execute_result"
        }
      ],
      "source": [
        "# Apply 'am_rush' function to the 'am_rush' series\n",
        "#==> ENTER YOUR CODE HERE\n",
        "df2[\"am_rush\"] = df2.apply(am_rush, axis = 1)\n",
        "df2[\"am_rush\"].value_counts()"
      ]
    },
    {
      "cell_type": "markdown",
      "metadata": {
        "id": "mSY6SsdK0lpn"
      },
      "source": [
        "Write functions to convert the three remaining columns and apply them to their respective series."
      ]
    },
    {
      "cell_type": "code",
      "execution_count": null,
      "metadata": {
        "id": "eAyWo8bVWSaW"
      },
      "outputs": [],
      "source": [
        "df2[\"daytime\"] = df2[\"tpep_pickup_datetime\"].dt.hour.astype(int)"
      ]
    },
    {
      "cell_type": "code",
      "execution_count": null,
      "metadata": {
        "id": "UADnzaIjzwLG"
      },
      "outputs": [],
      "source": [
        "# Define 'daytime()' conversion function [10:00–16:00)\n",
        "#==> ENTER YOUR CODE HERE\n",
        "def daytime(hour):\n",
        "    if 10 <= hour[\"daytime\"] < 16:\n",
        "        val = 1\n",
        "    else:\n",
        "        val = 0\n",
        "    return val"
      ]
    },
    {
      "cell_type": "code",
      "execution_count": null,
      "metadata": {
        "id": "ReHpKxoC1Qsx",
        "outputId": "96efb237-0b52-4c24-e8ae-05ba482112f2"
      },
      "outputs": [
        {
          "data": {
            "text/plain": [
              "0    10977\n",
              "1     4288\n",
              "Name: daytime, dtype: int64"
            ]
          },
          "execution_count": 22,
          "metadata": {},
          "output_type": "execute_result"
        }
      ],
      "source": [
        "# Apply 'daytime()' function to the 'daytime' series\n",
        "#==> ENTER YOUR CODE HERE\n",
        "df2[\"daytime\"] = df2.apply(daytime, axis = 1)\n",
        "df2[\"daytime\"].value_counts()"
      ]
    },
    {
      "cell_type": "code",
      "execution_count": null,
      "metadata": {
        "id": "Vth5rZD1WSaW"
      },
      "outputs": [],
      "source": [
        "df2[\"pm_rush\"] = df2[\"tpep_pickup_datetime\"].dt.hour.astype(int)"
      ]
    },
    {
      "cell_type": "code",
      "execution_count": null,
      "metadata": {
        "id": "rP-ZBOHT1WQY"
      },
      "outputs": [],
      "source": [
        "# Define 'pm_rush()' conversion function [16:00–20:00)\n",
        "#==> ENTER YOUR CODE HERE\n",
        "def pm_rush(hour):\n",
        "    if 16 <= hour[\"pm_rush\"] < 20:\n",
        "        val = 1\n",
        "    else:\n",
        "        val = 0\n",
        "    return val\n"
      ]
    },
    {
      "cell_type": "code",
      "execution_count": null,
      "metadata": {
        "id": "h0zWPBqr1mX4",
        "outputId": "46db4d81-8789-4910-9207-6d0b2402afb1"
      },
      "outputs": [
        {
          "data": {
            "text/plain": [
              "0    11727\n",
              "1     3538\n",
              "Name: pm_rush, dtype: int64"
            ]
          },
          "execution_count": 25,
          "metadata": {},
          "output_type": "execute_result"
        }
      ],
      "source": [
        "# Apply 'pm_rush()' function to the 'pm_rush' series\n",
        "#==> ENTER YOUR CODE HERE\n",
        "df2[\"pm_rush\"] = df2.apply(pm_rush, axis = 1)\n",
        "df2[\"pm_rush\"].value_counts()"
      ]
    },
    {
      "cell_type": "code",
      "execution_count": null,
      "metadata": {
        "id": "OYmnyzQjWSaX"
      },
      "outputs": [],
      "source": [
        "df2[\"nighttime\"] = df2[\"tpep_pickup_datetime\"].dt.hour.astype(int)"
      ]
    },
    {
      "cell_type": "code",
      "execution_count": null,
      "metadata": {
        "id": "u5O0LPLz2CSa"
      },
      "outputs": [],
      "source": [
        "# Define 'nighttime()' conversion function [20:00–06:00)\n",
        "#==> ENTER YOUR CODE HERE\n",
        "def nighttime(hour):\n",
        "    if 20 <= hour[\"nighttime\"] <= 24:\n",
        "        val = 1\n",
        "    elif 0 <= hour[\"nighttime\"] < 6:\n",
        "        val = 1\n",
        "    else:\n",
        "        val = 0\n",
        "    return val"
      ]
    },
    {
      "cell_type": "code",
      "execution_count": null,
      "metadata": {
        "id": "kLGmBXkT2RTi",
        "outputId": "5a9c7037-ff10-4652-ce53-e2bdb188a5ac"
      },
      "outputs": [
        {
          "data": {
            "text/plain": [
              "0    10306\n",
              "1     4959\n",
              "Name: nighttime, dtype: int64"
            ]
          },
          "execution_count": 28,
          "metadata": {},
          "output_type": "execute_result"
        }
      ],
      "source": [
        "# Apply 'nighttime' function to the 'nighttime' series\n",
        "#==> ENTER YOUR CODE HERE\n",
        "df2[\"nighttime\"] = df2.apply(nighttime, axis =1)\n",
        "df2[\"nighttime\"].value_counts()"
      ]
    },
    {
      "cell_type": "markdown",
      "metadata": {
        "id": "iECGz_jXWSaY"
      },
      "source": [
        "#### Create `month` column"
      ]
    },
    {
      "cell_type": "markdown",
      "metadata": {
        "id": "VrUmDy8U28bs"
      },
      "source": [
        "Now, create a `month` column that contains only the abbreviated name of the month when each passenger was picked up, then convert the result to lowercase."
      ]
    },
    {
      "cell_type": "code",
      "execution_count": null,
      "metadata": {
        "id": "ySh84KF3WSaY",
        "outputId": "dab17118-f5dc-4166-84dc-151ec6f01bcb"
      },
      "outputs": [
        {
          "data": {
            "text/plain": [
              "0        mar\n",
              "1        apr\n",
              "2        dec\n",
              "3        may\n",
              "5        mar\n",
              "        ... \n",
              "22692    jul\n",
              "22693    aug\n",
              "22695    aug\n",
              "22697    jul\n",
              "22698    mar\n",
              "Name: month, Length: 15265, dtype: object"
            ]
          },
          "execution_count": 29,
          "metadata": {},
          "output_type": "execute_result"
        }
      ],
      "source": [
        "# Create 'month' col\n",
        "df2[\"month\"] = df2[\"tpep_pickup_datetime\"].dt.month_name().str.slice(stop = 3)\n",
        "df2[\"month\"] = df2[\"month\"].str.lower()\n",
        "df2[\"month\"]\n",
        "\n",
        "##df2[\"month\"] = df2[\"tpep_pickup_datetime\"].dt.strftime(%b).str.lower()"
      ]
    },
    {
      "cell_type": "markdown",
      "metadata": {
        "id": "qWbNVbngihE6"
      },
      "source": [
        "Examine the first five rows of your dataframe."
      ]
    },
    {
      "cell_type": "code",
      "execution_count": null,
      "metadata": {
        "id": "jWxemeyl4vwQ",
        "outputId": "a1428ed9-919f-447d-e4c8-6fb48169a55b"
      },
      "outputs": [
        {
          "data": {
            "text/plain": [
              "0    mar\n",
              "1    apr\n",
              "2    dec\n",
              "3    may\n",
              "5    mar\n",
              "Name: month, dtype: object"
            ]
          },
          "execution_count": 30,
          "metadata": {},
          "output_type": "execute_result"
        }
      ],
      "source": [
        "\n",
        "df2[\"month\"].head()"
      ]
    },
    {
      "cell_type": "code",
      "execution_count": null,
      "metadata": {
        "id": "U8bBX819WSaY",
        "outputId": "d8465c7b-8114-4839-edf6-7f7ab1cd3a89"
      },
      "outputs": [
        {
          "data": {
            "text/html": [
              "<div>\n",
              "<style scoped>\n",
              "    .dataframe tbody tr th:only-of-type {\n",
              "        vertical-align: middle;\n",
              "    }\n",
              "\n",
              "    .dataframe tbody tr th {\n",
              "        vertical-align: top;\n",
              "    }\n",
              "\n",
              "    .dataframe thead th {\n",
              "        text-align: right;\n",
              "    }\n",
              "</style>\n",
              "<table border=\"1\" class=\"dataframe\">\n",
              "  <thead>\n",
              "    <tr style=\"text-align: right;\">\n",
              "      <th></th>\n",
              "      <th>Unnamed: 0</th>\n",
              "      <th>VendorID</th>\n",
              "      <th>tpep_pickup_datetime</th>\n",
              "      <th>tpep_dropoff_datetime</th>\n",
              "      <th>passenger_count</th>\n",
              "      <th>trip_distance</th>\n",
              "      <th>RatecodeID</th>\n",
              "      <th>store_and_fwd_flag</th>\n",
              "      <th>PULocationID</th>\n",
              "      <th>DOLocationID</th>\n",
              "      <th>payment_type</th>\n",
              "      <th>fare_amount</th>\n",
              "      <th>extra</th>\n",
              "      <th>mta_tax</th>\n",
              "      <th>tip_amount</th>\n",
              "      <th>tolls_amount</th>\n",
              "      <th>improvement_surcharge</th>\n",
              "      <th>total_amount</th>\n",
              "      <th>mean_duration</th>\n",
              "      <th>mean_distance</th>\n",
              "      <th>predicted_fare</th>\n",
              "      <th>tip_percent</th>\n",
              "      <th>generous</th>\n",
              "      <th>day</th>\n",
              "      <th>am_rush</th>\n",
              "      <th>daytime</th>\n",
              "      <th>pm_rush</th>\n",
              "      <th>nighttime</th>\n",
              "      <th>month</th>\n",
              "    </tr>\n",
              "  </thead>\n",
              "  <tbody>\n",
              "    <tr>\n",
              "      <th>0</th>\n",
              "      <td>24870114</td>\n",
              "      <td>2</td>\n",
              "      <td>2017-03-25 08:55:43</td>\n",
              "      <td>2017-03-25 09:09:47</td>\n",
              "      <td>6</td>\n",
              "      <td>3.34</td>\n",
              "      <td>1</td>\n",
              "      <td>N</td>\n",
              "      <td>100</td>\n",
              "      <td>231</td>\n",
              "      <td>1</td>\n",
              "      <td>13.0</td>\n",
              "      <td>0.0</td>\n",
              "      <td>0.5</td>\n",
              "      <td>2.76</td>\n",
              "      <td>0.00</td>\n",
              "      <td>0.3</td>\n",
              "      <td>16.56</td>\n",
              "      <td>22.847222</td>\n",
              "      <td>3.521667</td>\n",
              "      <td>16.434245</td>\n",
              "      <td>True</td>\n",
              "      <td>1</td>\n",
              "      <td>saturday</td>\n",
              "      <td>1</td>\n",
              "      <td>0</td>\n",
              "      <td>0</td>\n",
              "      <td>0</td>\n",
              "      <td>mar</td>\n",
              "    </tr>\n",
              "    <tr>\n",
              "      <th>1</th>\n",
              "      <td>35634249</td>\n",
              "      <td>1</td>\n",
              "      <td>2017-04-11 14:53:28</td>\n",
              "      <td>2017-04-11 15:19:58</td>\n",
              "      <td>1</td>\n",
              "      <td>1.80</td>\n",
              "      <td>1</td>\n",
              "      <td>N</td>\n",
              "      <td>186</td>\n",
              "      <td>43</td>\n",
              "      <td>1</td>\n",
              "      <td>16.0</td>\n",
              "      <td>0.0</td>\n",
              "      <td>0.5</td>\n",
              "      <td>4.00</td>\n",
              "      <td>0.00</td>\n",
              "      <td>0.3</td>\n",
              "      <td>20.80</td>\n",
              "      <td>24.470370</td>\n",
              "      <td>3.108889</td>\n",
              "      <td>16.052218</td>\n",
              "      <td>True</td>\n",
              "      <td>1</td>\n",
              "      <td>tuesday</td>\n",
              "      <td>0</td>\n",
              "      <td>1</td>\n",
              "      <td>0</td>\n",
              "      <td>0</td>\n",
              "      <td>apr</td>\n",
              "    </tr>\n",
              "    <tr>\n",
              "      <th>2</th>\n",
              "      <td>106203690</td>\n",
              "      <td>1</td>\n",
              "      <td>2017-12-15 07:26:56</td>\n",
              "      <td>2017-12-15 07:34:08</td>\n",
              "      <td>1</td>\n",
              "      <td>1.00</td>\n",
              "      <td>1</td>\n",
              "      <td>N</td>\n",
              "      <td>262</td>\n",
              "      <td>236</td>\n",
              "      <td>1</td>\n",
              "      <td>6.5</td>\n",
              "      <td>0.0</td>\n",
              "      <td>0.5</td>\n",
              "      <td>1.45</td>\n",
              "      <td>0.00</td>\n",
              "      <td>0.3</td>\n",
              "      <td>8.75</td>\n",
              "      <td>7.250000</td>\n",
              "      <td>0.881429</td>\n",
              "      <td>7.053706</td>\n",
              "      <td>False</td>\n",
              "      <td>0</td>\n",
              "      <td>friday</td>\n",
              "      <td>1</td>\n",
              "      <td>0</td>\n",
              "      <td>0</td>\n",
              "      <td>0</td>\n",
              "      <td>dec</td>\n",
              "    </tr>\n",
              "    <tr>\n",
              "      <th>3</th>\n",
              "      <td>38942136</td>\n",
              "      <td>2</td>\n",
              "      <td>2017-05-07 13:17:59</td>\n",
              "      <td>2017-05-07 13:48:14</td>\n",
              "      <td>1</td>\n",
              "      <td>3.70</td>\n",
              "      <td>1</td>\n",
              "      <td>N</td>\n",
              "      <td>188</td>\n",
              "      <td>97</td>\n",
              "      <td>1</td>\n",
              "      <td>20.5</td>\n",
              "      <td>0.0</td>\n",
              "      <td>0.5</td>\n",
              "      <td>6.39</td>\n",
              "      <td>0.00</td>\n",
              "      <td>0.3</td>\n",
              "      <td>27.69</td>\n",
              "      <td>30.250000</td>\n",
              "      <td>3.700000</td>\n",
              "      <td>18.731650</td>\n",
              "      <td>True</td>\n",
              "      <td>1</td>\n",
              "      <td>sunday</td>\n",
              "      <td>0</td>\n",
              "      <td>1</td>\n",
              "      <td>0</td>\n",
              "      <td>0</td>\n",
              "      <td>may</td>\n",
              "    </tr>\n",
              "    <tr>\n",
              "      <th>5</th>\n",
              "      <td>23345809</td>\n",
              "      <td>2</td>\n",
              "      <td>2017-03-25 20:34:11</td>\n",
              "      <td>2017-03-25 20:42:11</td>\n",
              "      <td>6</td>\n",
              "      <td>2.30</td>\n",
              "      <td>1</td>\n",
              "      <td>N</td>\n",
              "      <td>161</td>\n",
              "      <td>236</td>\n",
              "      <td>1</td>\n",
              "      <td>9.0</td>\n",
              "      <td>0.5</td>\n",
              "      <td>0.5</td>\n",
              "      <td>2.06</td>\n",
              "      <td>0.00</td>\n",
              "      <td>0.3</td>\n",
              "      <td>12.36</td>\n",
              "      <td>11.855376</td>\n",
              "      <td>2.052258</td>\n",
              "      <td>10.441351</td>\n",
              "      <td>True</td>\n",
              "      <td>1</td>\n",
              "      <td>saturday</td>\n",
              "      <td>0</td>\n",
              "      <td>0</td>\n",
              "      <td>0</td>\n",
              "      <td>1</td>\n",
              "      <td>mar</td>\n",
              "    </tr>\n",
              "    <tr>\n",
              "      <th>...</th>\n",
              "      <td>...</td>\n",
              "      <td>...</td>\n",
              "      <td>...</td>\n",
              "      <td>...</td>\n",
              "      <td>...</td>\n",
              "      <td>...</td>\n",
              "      <td>...</td>\n",
              "      <td>...</td>\n",
              "      <td>...</td>\n",
              "      <td>...</td>\n",
              "      <td>...</td>\n",
              "      <td>...</td>\n",
              "      <td>...</td>\n",
              "      <td>...</td>\n",
              "      <td>...</td>\n",
              "      <td>...</td>\n",
              "      <td>...</td>\n",
              "      <td>...</td>\n",
              "      <td>...</td>\n",
              "      <td>...</td>\n",
              "      <td>...</td>\n",
              "      <td>...</td>\n",
              "      <td>...</td>\n",
              "      <td>...</td>\n",
              "      <td>...</td>\n",
              "      <td>...</td>\n",
              "      <td>...</td>\n",
              "      <td>...</td>\n",
              "      <td>...</td>\n",
              "    </tr>\n",
              "    <tr>\n",
              "      <th>22692</th>\n",
              "      <td>60425673</td>\n",
              "      <td>1</td>\n",
              "      <td>2017-07-16 03:22:51</td>\n",
              "      <td>2017-07-16 03:40:52</td>\n",
              "      <td>1</td>\n",
              "      <td>5.70</td>\n",
              "      <td>1</td>\n",
              "      <td>N</td>\n",
              "      <td>249</td>\n",
              "      <td>17</td>\n",
              "      <td>1</td>\n",
              "      <td>19.0</td>\n",
              "      <td>0.5</td>\n",
              "      <td>0.5</td>\n",
              "      <td>4.05</td>\n",
              "      <td>0.00</td>\n",
              "      <td>0.3</td>\n",
              "      <td>24.35</td>\n",
              "      <td>18.016667</td>\n",
              "      <td>5.700000</td>\n",
              "      <td>19.426247</td>\n",
              "      <td>True</td>\n",
              "      <td>1</td>\n",
              "      <td>sunday</td>\n",
              "      <td>0</td>\n",
              "      <td>0</td>\n",
              "      <td>0</td>\n",
              "      <td>1</td>\n",
              "      <td>jul</td>\n",
              "    </tr>\n",
              "    <tr>\n",
              "      <th>22693</th>\n",
              "      <td>67858616</td>\n",
              "      <td>2</td>\n",
              "      <td>2017-08-10 22:20:04</td>\n",
              "      <td>2017-08-10 22:29:31</td>\n",
              "      <td>1</td>\n",
              "      <td>0.89</td>\n",
              "      <td>1</td>\n",
              "      <td>N</td>\n",
              "      <td>229</td>\n",
              "      <td>170</td>\n",
              "      <td>1</td>\n",
              "      <td>7.5</td>\n",
              "      <td>0.5</td>\n",
              "      <td>0.5</td>\n",
              "      <td>1.76</td>\n",
              "      <td>0.00</td>\n",
              "      <td>0.3</td>\n",
              "      <td>10.56</td>\n",
              "      <td>8.095370</td>\n",
              "      <td>1.062778</td>\n",
              "      <td>7.300146</td>\n",
              "      <td>True</td>\n",
              "      <td>1</td>\n",
              "      <td>thursday</td>\n",
              "      <td>0</td>\n",
              "      <td>0</td>\n",
              "      <td>0</td>\n",
              "      <td>1</td>\n",
              "      <td>aug</td>\n",
              "    </tr>\n",
              "    <tr>\n",
              "      <th>22695</th>\n",
              "      <td>66632549</td>\n",
              "      <td>2</td>\n",
              "      <td>2017-08-06 16:43:59</td>\n",
              "      <td>2017-08-06 17:24:47</td>\n",
              "      <td>1</td>\n",
              "      <td>16.71</td>\n",
              "      <td>2</td>\n",
              "      <td>N</td>\n",
              "      <td>132</td>\n",
              "      <td>164</td>\n",
              "      <td>1</td>\n",
              "      <td>52.0</td>\n",
              "      <td>0.0</td>\n",
              "      <td>0.5</td>\n",
              "      <td>14.64</td>\n",
              "      <td>5.76</td>\n",
              "      <td>0.3</td>\n",
              "      <td>73.20</td>\n",
              "      <td>59.560417</td>\n",
              "      <td>18.757500</td>\n",
              "      <td>52.000000</td>\n",
              "      <td>True</td>\n",
              "      <td>1</td>\n",
              "      <td>sunday</td>\n",
              "      <td>0</td>\n",
              "      <td>0</td>\n",
              "      <td>1</td>\n",
              "      <td>0</td>\n",
              "      <td>aug</td>\n",
              "    </tr>\n",
              "    <tr>\n",
              "      <th>22697</th>\n",
              "      <td>60217333</td>\n",
              "      <td>2</td>\n",
              "      <td>2017-07-15 12:56:30</td>\n",
              "      <td>2017-07-15 13:08:26</td>\n",
              "      <td>1</td>\n",
              "      <td>2.36</td>\n",
              "      <td>1</td>\n",
              "      <td>N</td>\n",
              "      <td>68</td>\n",
              "      <td>144</td>\n",
              "      <td>1</td>\n",
              "      <td>10.5</td>\n",
              "      <td>0.0</td>\n",
              "      <td>0.5</td>\n",
              "      <td>1.70</td>\n",
              "      <td>0.00</td>\n",
              "      <td>0.3</td>\n",
              "      <td>13.00</td>\n",
              "      <td>16.650000</td>\n",
              "      <td>2.077500</td>\n",
              "      <td>11.707049</td>\n",
              "      <td>False</td>\n",
              "      <td>0</td>\n",
              "      <td>saturday</td>\n",
              "      <td>0</td>\n",
              "      <td>1</td>\n",
              "      <td>0</td>\n",
              "      <td>0</td>\n",
              "      <td>jul</td>\n",
              "    </tr>\n",
              "    <tr>\n",
              "      <th>22698</th>\n",
              "      <td>17208911</td>\n",
              "      <td>1</td>\n",
              "      <td>2017-03-02 13:02:49</td>\n",
              "      <td>2017-03-02 13:16:09</td>\n",
              "      <td>1</td>\n",
              "      <td>2.10</td>\n",
              "      <td>1</td>\n",
              "      <td>N</td>\n",
              "      <td>239</td>\n",
              "      <td>236</td>\n",
              "      <td>1</td>\n",
              "      <td>11.0</td>\n",
              "      <td>0.0</td>\n",
              "      <td>0.5</td>\n",
              "      <td>2.35</td>\n",
              "      <td>0.00</td>\n",
              "      <td>0.3</td>\n",
              "      <td>14.15</td>\n",
              "      <td>9.405556</td>\n",
              "      <td>1.476970</td>\n",
              "      <td>8.600969</td>\n",
              "      <td>False</td>\n",
              "      <td>0</td>\n",
              "      <td>thursday</td>\n",
              "      <td>0</td>\n",
              "      <td>1</td>\n",
              "      <td>0</td>\n",
              "      <td>0</td>\n",
              "      <td>mar</td>\n",
              "    </tr>\n",
              "  </tbody>\n",
              "</table>\n",
              "<p>15265 rows × 29 columns</p>\n",
              "</div>"
            ],
            "text/plain": [
              "       Unnamed: 0  VendorID tpep_pickup_datetime tpep_dropoff_datetime  \\\n",
              "0        24870114         2  2017-03-25 08:55:43   2017-03-25 09:09:47   \n",
              "1        35634249         1  2017-04-11 14:53:28   2017-04-11 15:19:58   \n",
              "2       106203690         1  2017-12-15 07:26:56   2017-12-15 07:34:08   \n",
              "3        38942136         2  2017-05-07 13:17:59   2017-05-07 13:48:14   \n",
              "5        23345809         2  2017-03-25 20:34:11   2017-03-25 20:42:11   \n",
              "...           ...       ...                  ...                   ...   \n",
              "22692    60425673         1  2017-07-16 03:22:51   2017-07-16 03:40:52   \n",
              "22693    67858616         2  2017-08-10 22:20:04   2017-08-10 22:29:31   \n",
              "22695    66632549         2  2017-08-06 16:43:59   2017-08-06 17:24:47   \n",
              "22697    60217333         2  2017-07-15 12:56:30   2017-07-15 13:08:26   \n",
              "22698    17208911         1  2017-03-02 13:02:49   2017-03-02 13:16:09   \n",
              "\n",
              "       passenger_count  trip_distance  RatecodeID store_and_fwd_flag  \\\n",
              "0                    6           3.34           1                  N   \n",
              "1                    1           1.80           1                  N   \n",
              "2                    1           1.00           1                  N   \n",
              "3                    1           3.70           1                  N   \n",
              "5                    6           2.30           1                  N   \n",
              "...                ...            ...         ...                ...   \n",
              "22692                1           5.70           1                  N   \n",
              "22693                1           0.89           1                  N   \n",
              "22695                1          16.71           2                  N   \n",
              "22697                1           2.36           1                  N   \n",
              "22698                1           2.10           1                  N   \n",
              "\n",
              "       PULocationID  DOLocationID  payment_type  fare_amount  extra  mta_tax  \\\n",
              "0               100           231             1         13.0    0.0      0.5   \n",
              "1               186            43             1         16.0    0.0      0.5   \n",
              "2               262           236             1          6.5    0.0      0.5   \n",
              "3               188            97             1         20.5    0.0      0.5   \n",
              "5               161           236             1          9.0    0.5      0.5   \n",
              "...             ...           ...           ...          ...    ...      ...   \n",
              "22692           249            17             1         19.0    0.5      0.5   \n",
              "22693           229           170             1          7.5    0.5      0.5   \n",
              "22695           132           164             1         52.0    0.0      0.5   \n",
              "22697            68           144             1         10.5    0.0      0.5   \n",
              "22698           239           236             1         11.0    0.0      0.5   \n",
              "\n",
              "       tip_amount  tolls_amount  improvement_surcharge  total_amount  \\\n",
              "0            2.76          0.00                    0.3         16.56   \n",
              "1            4.00          0.00                    0.3         20.80   \n",
              "2            1.45          0.00                    0.3          8.75   \n",
              "3            6.39          0.00                    0.3         27.69   \n",
              "5            2.06          0.00                    0.3         12.36   \n",
              "...           ...           ...                    ...           ...   \n",
              "22692        4.05          0.00                    0.3         24.35   \n",
              "22693        1.76          0.00                    0.3         10.56   \n",
              "22695       14.64          5.76                    0.3         73.20   \n",
              "22697        1.70          0.00                    0.3         13.00   \n",
              "22698        2.35          0.00                    0.3         14.15   \n",
              "\n",
              "       mean_duration  mean_distance  predicted_fare  tip_percent  generous  \\\n",
              "0          22.847222       3.521667       16.434245         True         1   \n",
              "1          24.470370       3.108889       16.052218         True         1   \n",
              "2           7.250000       0.881429        7.053706        False         0   \n",
              "3          30.250000       3.700000       18.731650         True         1   \n",
              "5          11.855376       2.052258       10.441351         True         1   \n",
              "...              ...            ...             ...          ...       ...   \n",
              "22692      18.016667       5.700000       19.426247         True         1   \n",
              "22693       8.095370       1.062778        7.300146         True         1   \n",
              "22695      59.560417      18.757500       52.000000         True         1   \n",
              "22697      16.650000       2.077500       11.707049        False         0   \n",
              "22698       9.405556       1.476970        8.600969        False         0   \n",
              "\n",
              "            day  am_rush  daytime  pm_rush  nighttime month  \n",
              "0      saturday        1        0        0          0   mar  \n",
              "1       tuesday        0        1        0          0   apr  \n",
              "2        friday        1        0        0          0   dec  \n",
              "3        sunday        0        1        0          0   may  \n",
              "5      saturday        0        0        0          1   mar  \n",
              "...         ...      ...      ...      ...        ...   ...  \n",
              "22692    sunday        0        0        0          1   jul  \n",
              "22693  thursday        0        0        0          1   aug  \n",
              "22695    sunday        0        0        1          0   aug  \n",
              "22697  saturday        0        1        0          0   jul  \n",
              "22698  thursday        0        1        0          0   mar  \n",
              "\n",
              "[15265 rows x 29 columns]"
            ]
          },
          "execution_count": 31,
          "metadata": {},
          "output_type": "execute_result"
        }
      ],
      "source": [
        "df2"
      ]
    },
    {
      "cell_type": "markdown",
      "metadata": {
        "id": "YNPXnOXTWSaZ"
      },
      "source": [
        "#### Drop columns\n",
        "\n",
        "Drop redundant and irrelevant columns as well as those that would not be available when the model is deployed. This includes information like payment type, trip distance, tip amount, tip percentage, total amount, toll amount, etc. The target variable (`generous`) must remain in the data because it will get isolated as the `y` data for modeling."
      ]
    },
    {
      "cell_type": "code",
      "execution_count": null,
      "metadata": {
        "id": "HiWE9mzHWSaZ",
        "outputId": "af6df983-074b-4d47-e6fc-e670ef9b9c65"
      },
      "outputs": [
        {
          "name": "stdout",
          "output_type": "stream",
          "text": [
            "<class 'pandas.core.frame.DataFrame'>\n",
            "Int64Index: 15265 entries, 0 to 22698\n",
            "Data columns (total 15 columns):\n",
            " #   Column           Non-Null Count  Dtype  \n",
            "---  ------           --------------  -----  \n",
            " 0   VendorID         15265 non-null  int64  \n",
            " 1   passenger_count  15265 non-null  int64  \n",
            " 2   RatecodeID       15265 non-null  int64  \n",
            " 3   PULocationID     15265 non-null  int64  \n",
            " 4   DOLocationID     15265 non-null  int64  \n",
            " 5   mean_duration    15265 non-null  float64\n",
            " 6   mean_distance    15265 non-null  float64\n",
            " 7   predicted_fare   15265 non-null  float64\n",
            " 8   generous         15265 non-null  int64  \n",
            " 9   day              15265 non-null  object \n",
            " 10  am_rush          15265 non-null  int64  \n",
            " 11  daytime          15265 non-null  int64  \n",
            " 12  pm_rush          15265 non-null  int64  \n",
            " 13  nighttime        15265 non-null  int64  \n",
            " 14  month            15265 non-null  object \n",
            "dtypes: float64(3), int64(10), object(2)\n",
            "memory usage: 1.9+ MB\n"
          ]
        }
      ],
      "source": [
        "# Drop columns\n",
        "drop_columns = [\"Unnamed: 0\", \"tpep_pickup_datetime\", \"tpep_dropoff_datetime\", \"trip_distance\",\n",
        "                   \"payment_type\", \"store_and_fwd_flag\", \"fare_amount\", \"extra\", \"mta_tax\", \"tip_amount\", \"tolls_amount\",\n",
        "                    \"improvement_surcharge\", \"total_amount\", \"tip_percent\"]\n",
        "df2 = df2.drop(columns = drop_columns)\n",
        "df2.info()"
      ]
    },
    {
      "cell_type": "markdown",
      "metadata": {
        "id": "gDS6VHiJWSaZ"
      },
      "source": [
        "#### Variable encoding"
      ]
    },
    {
      "cell_type": "markdown",
      "metadata": {
        "id": "BVs01W-Iitu7"
      },
      "source": [
        "Many of the columns are categorical and will need to be dummied (converted to binary). Some of these columns are numeric, but they actually encode categorical information, such as `RatecodeID` and the pickup and dropoff locations. To make these columns recognizable to the `get_dummies()` function as categorical variables, you'll first need to convert them to `type(str)`.\n",
        "\n",
        "1. Define a variable called `cols_to_str`, which is a list of the numeric columns that contain categorical information and must be converted to string: `RatecodeID`, `PULocationID`, `DOLocationID`.\n",
        "2. Write a for loop that converts each column in `cols_to_str` to string.\n"
      ]
    },
    {
      "cell_type": "code",
      "execution_count": null,
      "metadata": {
        "id": "FbB4AfATHqjC",
        "outputId": "376151b2-a301-41bc-cab5-07f387685bf6"
      },
      "outputs": [
        {
          "name": "stdout",
          "output_type": "stream",
          "text": [
            "<class 'pandas.core.frame.DataFrame'>\n",
            "Int64Index: 15265 entries, 0 to 22698\n",
            "Data columns (total 15 columns):\n",
            " #   Column           Non-Null Count  Dtype  \n",
            "---  ------           --------------  -----  \n",
            " 0   VendorID         15265 non-null  object \n",
            " 1   passenger_count  15265 non-null  int64  \n",
            " 2   RatecodeID       15265 non-null  object \n",
            " 3   PULocationID     15265 non-null  object \n",
            " 4   DOLocationID     15265 non-null  object \n",
            " 5   mean_duration    15265 non-null  float64\n",
            " 6   mean_distance    15265 non-null  float64\n",
            " 7   predicted_fare   15265 non-null  float64\n",
            " 8   generous         15265 non-null  int64  \n",
            " 9   day              15265 non-null  object \n",
            " 10  am_rush          15265 non-null  int64  \n",
            " 11  daytime          15265 non-null  int64  \n",
            " 12  pm_rush          15265 non-null  int64  \n",
            " 13  nighttime        15265 non-null  int64  \n",
            " 14  month            15265 non-null  object \n",
            "dtypes: float64(3), int64(6), object(6)\n",
            "memory usage: 1.9+ MB\n"
          ]
        }
      ],
      "source": [
        "# 1. Define list of cols to convert to string\n",
        "cols_to_str = [\"RatecodeID\", \"PULocationID\", \"DOLocationID\", \"VendorID\"]\n",
        "# 2. Convert each column to string\n",
        "for x in cols_to_str:\n",
        "    df2[x] = df2[x].astype(str)\n",
        "\n",
        "df2.info()"
      ]
    },
    {
      "cell_type": "markdown",
      "metadata": {
        "id": "_5Ubw8O1pKRO"
      },
      "source": [
        "Now convert all the categorical columns to binary.\n",
        "\n",
        "1. Call `get_dummies()` on the dataframe and assign the results back to a new dataframe called `df2`.\n"
      ]
    },
    {
      "cell_type": "code",
      "execution_count": null,
      "metadata": {
        "id": "H94yLzUMHqgB",
        "outputId": "a7320250-c34f-4429-95ca-dae21119032a"
      },
      "outputs": [
        {
          "name": "stdout",
          "output_type": "stream",
          "text": [
            "<class 'pandas.core.frame.DataFrame'>\n",
            "Int64Index: 15265 entries, 0 to 22698\n",
            "Columns: 347 entries, passenger_count to month_sep\n",
            "dtypes: float64(3), int64(6), uint8(338)\n",
            "memory usage: 6.1 MB\n"
          ]
        }
      ],
      "source": [
        "# Convert categoricals to binary\n",
        "df2 = pd.get_dummies(df2, drop_first = True)\n",
        "df2.info()"
      ]
    },
    {
      "cell_type": "markdown",
      "metadata": {
        "id": "nZfNE37b-LlJ"
      },
      "source": [
        "##### Evaluation metric\n",
        "\n",
        "Before modeling, you must decide on an evaluation metric.\n",
        "\n",
        "1. Examine the class balance of your target variable."
      ]
    },
    {
      "cell_type": "code",
      "execution_count": null,
      "metadata": {
        "id": "4mRefXCF-K_c",
        "outputId": "e34fa757-6e1d-4764-98d2-b8b0f014ea36"
      },
      "outputs": [
        {
          "data": {
            "text/plain": [
              "1    52.636751\n",
              "0    47.363249\n",
              "Name: generous, dtype: float64"
            ]
          },
          "execution_count": 35,
          "metadata": {},
          "output_type": "execute_result"
        }
      ],
      "source": [
        "# Get class balance of 'generous' col\n",
        "df2[\"generous\"].value_counts(normalize = True)*100"
      ]
    },
    {
      "cell_type": "markdown",
      "metadata": {
        "id": "TjgkLrOf_OrE"
      },
      "source": [
        "A little over half of the customers in this dataset were \"generous\" (tipped ≥ 20%). The dataset is very nearly balanced.\n",
        "\n",
        "To determine a metric, consider the cost of both kinds of model error:\n",
        "* False positives (the model predicts a tip ≥ 20%, but the customer does not give one)\n",
        "* False negatives (the model predicts a tip < 20%, but the customer gives more)\n",
        "\n",
        "False positives are worse for cab drivers, because they would pick up a customer expecting a good tip and then not receive one, frustrating the driver.\n",
        "\n",
        "False negatives are worse for customers, because a cab driver would likely pick up a different customer who was predicted to tip more&mdash;even when the original customer would have tipped generously.\n",
        "\n",
        "**The stakes are relatively even. You want to help taxi drivers make more money, but you don't want this to anger customers. Your metric should weigh both precision and recall equally. Which metric is this?**"
      ]
    },
    {
      "cell_type": "markdown",
      "metadata": {
        "id": "O7fZQefYWSaa"
      },
      "source": [
        "F<sub>1</sub> score is the metric that places equal weight on true postives and false positives, and so therefore on precision and recall."
      ]
    },
    {
      "cell_type": "markdown",
      "metadata": {
        "id": "3n1eikFh8akS"
      },
      "source": [
        "## PACE: **Construct**\n",
        "\n",
        "Consider the questions in your PACE Strategy Document to reflect on the Construct stage."
      ]
    },
    {
      "cell_type": "markdown",
      "metadata": {
        "id": "G5jzGjOS8iiv"
      },
      "source": [
        "### **Task 3. Modeling**"
      ]
    },
    {
      "cell_type": "markdown",
      "metadata": {
        "id": "Nx41bVxX89Fe"
      },
      "source": [
        "##### **Split the data**\n",
        "\n",
        "Now you're ready to model. The only remaining step is to split the data into features/target variable and training/testing data.\n",
        "\n",
        "1. Define a variable `y` that isolates the target variable (`generous`).\n",
        "2. Define a variable `X` that isolates the features.\n",
        "3. Split the data into training and testing sets. Put 20% of the samples into the test set, stratify the data, and set the random state."
      ]
    },
    {
      "cell_type": "code",
      "execution_count": null,
      "metadata": {
        "id": "qLbapbSWDUL-"
      },
      "outputs": [],
      "source": [
        "# Isolate target variable (y)\n",
        "y = df2[\"generous\"]\n",
        "# Isolate the features (X)\n",
        "X = df2.drop(columns = [\"generous\"])\n",
        "# Split into train and test sets\n",
        "X_train, X_test, y_train, y_test = train_test_split(X, y, random_state = 42, stratify = y, test_size =0.2)"
      ]
    },
    {
      "cell_type": "markdown",
      "metadata": {
        "id": "vynZs5het1b_"
      },
      "source": [
        "##### **Random forest**\n",
        "\n",
        "Begin with using `GridSearchCV` to tune a random forest model.\n",
        "\n",
        "1. Instantiate the random forest classifier `rf` and set the random state.\n",
        "\n",
        "2. Create a dictionary `cv_params` of any of the following hyperparameters and their corresponding values to tune. The more you tune, the better your model will fit the data, but the longer it will take.\n",
        " - `max_depth`  \n",
        " - `max_features`  \n",
        " - `max_samples`\n",
        " - `min_samples_leaf`  \n",
        " - `min_samples_split`\n",
        " - `n_estimators`  \n",
        "\n",
        "3. Define a set `scoring` of scoring metrics for GridSearch to capture (precision, recall, F1 score, and accuracy).\n",
        "\n",
        "4. Instantiate the `GridSearchCV` object `rf1`. Pass to it as arguments:\n",
        " - estimator=`rf`\n",
        " - param_grid=`cv_params`\n",
        " - scoring=`scoring`\n",
        " - cv: define the number of you cross-validation folds you want (`cv=_`)\n",
        " - refit: indicate which evaluation metric you want to use to select the model (`refit=_`)\n",
        "\n",
        "\n",
        "**Note:** `refit` should be set to `'f1'`.<font/>\n",
        "</details>\n",
        "\n"
      ]
    },
    {
      "cell_type": "code",
      "execution_count": null,
      "metadata": {
        "id": "1kGlbYgOWSab"
      },
      "outputs": [],
      "source": [
        "# 1. Instantiate the random forest classifier\n",
        "rf = RandomForestClassifier(random_state = 42)\n",
        "# 2. Create a dictionary of hyperparameters to tune\n",
        "#cv_params = {\"n_estimators\": [200,250,300],\n",
        "#            \"max_depth\": [6, 8, None],\n",
        "#            \"min_samples_split\": [1, 2],\n",
        "#            \"min_samples_leaf\": [1, 2],\n",
        "#            \"max_features\":[0.8, 0.9,1.0],\n",
        "#            \"max_samples\": [1.0]}\n",
        "cv_params = {\"n_estimators\": [300],\n",
        "            \"max_depth\": [None],\n",
        "            \"min_samples_split\": [2],\n",
        "            \"min_samples_leaf\": [1],\n",
        "            \"max_features\": [1.0],\n",
        "            \"max_samples\": [0.7]}\n",
        "# 3. Define a set of scoring metrics to capture\n",
        "scoring = {\"accuracy\", \"precision\", \"recall\", \"f1\"}\n",
        "# 4. Instantiate the GridSearchCV object\n",
        "rf_cv = GridSearchCV(rf, cv_params, scoring = scoring, refit = \"f1\", cv = 4)"
      ]
    },
    {
      "cell_type": "markdown",
      "metadata": {
        "id": "Wv_WvRA1RqTl"
      },
      "source": [
        "Now fit the model to the training data. Note that, depending on how many options you include in your search grid and the number of cross-validation folds you select, this could take a very long time&mdash;even hours. If you use 4-fold validation and include only one possible value for each hyperparameter and grow 300 trees to full depth, it should take about 5 minutes. If you add another value for GridSearch to check for, say, `min_samples_split` (so all hyperparameters now have 1 value except for `min_samples_split`, which has 2 possibilities), it would double the time to ~10 minutes. Each additional parameter would approximately double the time."
      ]
    },
    {
      "cell_type": "code",
      "execution_count": null,
      "metadata": {
        "id": "OXuBiTGi5ZHn",
        "outputId": "3d105df4-296e-4164-984d-d205e1698542"
      },
      "outputs": [
        {
          "name": "stdout",
          "output_type": "stream",
          "text": [
            "CPU times: user 4 µs, sys: 1 µs, total: 5 µs\n",
            "Wall time: 9.06 µs\n"
          ]
        },
        {
          "data": {
            "text/plain": [
              "GridSearchCV(cv=4, error_score=nan,\n",
              "             estimator=RandomForestClassifier(bootstrap=True, ccp_alpha=0.0,\n",
              "                                              class_weight=None,\n",
              "                                              criterion='gini', max_depth=None,\n",
              "                                              max_features='auto',\n",
              "                                              max_leaf_nodes=None,\n",
              "                                              max_samples=None,\n",
              "                                              min_impurity_decrease=0.0,\n",
              "                                              min_impurity_split=None,\n",
              "                                              min_samples_leaf=1,\n",
              "                                              min_samples_split=2,\n",
              "                                              min_weight_fraction_leaf=0.0,\n",
              "                                              n_estimators=100, n_jobs=None,\n",
              "                                              oob_score=False, random_state=42,\n",
              "                                              verbose=0, warm_start=False),\n",
              "             iid='deprecated', n_jobs=None,\n",
              "             param_grid={'max_depth': [None], 'max_features': [1.0],\n",
              "                         'max_samples': [0.7], 'min_samples_leaf': [1],\n",
              "                         'min_samples_split': [2], 'n_estimators': [300]},\n",
              "             pre_dispatch='2*n_jobs', refit='f1', return_train_score=False,\n",
              "             scoring={'precision', 'accuracy', 'f1', 'recall'}, verbose=0)"
            ]
          },
          "execution_count": 38,
          "metadata": {},
          "output_type": "execute_result"
        }
      ],
      "source": [
        "%%time\n",
        "rf_cv.fit(X_train, y_train)"
      ]
    },
    {
      "cell_type": "code",
      "execution_count": null,
      "metadata": {
        "id": "4qI_VcUqWSac",
        "outputId": "6b30e74f-4142-4b26-ff18-b42885e16d5a"
      },
      "outputs": [
        {
          "data": {
            "text/plain": [
              "{'max_depth': None,\n",
              " 'max_features': 1.0,\n",
              " 'max_samples': 0.7,\n",
              " 'min_samples_leaf': 1,\n",
              " 'min_samples_split': 2,\n",
              " 'n_estimators': 300}"
            ]
          },
          "execution_count": 39,
          "metadata": {},
          "output_type": "execute_result"
        }
      ],
      "source": [
        "rf_cv.best_params_"
      ]
    },
    {
      "cell_type": "markdown",
      "metadata": {
        "id": "ChZsXw2sksDF"
      },
      "source": [
        "If you want, use `pickle` to save your models and read them back in. This can be particularly helpful when performing a search over many possible hyperparameter values."
      ]
    },
    {
      "cell_type": "code",
      "execution_count": null,
      "metadata": {
        "id": "YtAgrH0zy4CE"
      },
      "outputs": [],
      "source": [
        "import pickle\n",
        "\n",
        "# Define a path to the folder where you want to save the model\n",
        "path = '/home/jovyan/work/'"
      ]
    },
    {
      "cell_type": "code",
      "execution_count": null,
      "metadata": {
        "id": "It4lI7jQWSac"
      },
      "outputs": [],
      "source": [
        "def write_pickle(path, model_object, save_name:str):\n",
        "    '''\n",
        "    save_name is a string.\n",
        "    '''\n",
        "    with open(path + save_name + '.pickle', 'wb') as to_write:\n",
        "        pickle.dump(model_object, to_write)"
      ]
    },
    {
      "cell_type": "code",
      "execution_count": null,
      "metadata": {
        "id": "w08uemkKWSad"
      },
      "outputs": [],
      "source": [
        "def read_pickle(path, saved_model_name:str):\n",
        "    '''\n",
        "    saved_model_name is a string.\n",
        "    '''\n",
        "    with open(path + saved_model_name + '.pickle', 'rb') as to_read:\n",
        "        model = pickle.load(to_read)\n",
        "\n",
        "        return model"
      ]
    },
    {
      "cell_type": "code",
      "execution_count": null,
      "metadata": {
        "id": "4dIsY_SaWSad"
      },
      "outputs": [],
      "source": [
        "write_pickle(path, rf_cv, \"rf_cv\")"
      ]
    },
    {
      "cell_type": "code",
      "execution_count": null,
      "metadata": {
        "id": "o4gujowFWSad"
      },
      "outputs": [],
      "source": [
        "rf_cv = read_pickle(path, \"rf_cv\")"
      ]
    },
    {
      "cell_type": "code",
      "execution_count": null,
      "metadata": {
        "id": "G8gETs8SWSad",
        "outputId": "b896566c-6547-4087-fa24-c27d1220418c"
      },
      "outputs": [
        {
          "data": {
            "text/plain": [
              "{'max_depth': None,\n",
              " 'max_features': 1.0,\n",
              " 'max_samples': 0.7,\n",
              " 'min_samples_leaf': 1,\n",
              " 'min_samples_split': 2,\n",
              " 'n_estimators': 300}"
            ]
          },
          "execution_count": 45,
          "metadata": {},
          "output_type": "execute_result"
        }
      ],
      "source": [
        "rf_cv.best_params_"
      ]
    },
    {
      "cell_type": "markdown",
      "metadata": {
        "id": "QIaRiZW4hf-6"
      },
      "source": [
        "Examine the best average score across all the validation folds."
      ]
    },
    {
      "cell_type": "code",
      "execution_count": null,
      "metadata": {
        "id": "29kGUegqhviL",
        "outputId": "8e70ab44-a28e-4b8f-d3a3-938951766aaf"
      },
      "outputs": [
        {
          "data": {
            "text/plain": [
              "0.7136009788848705"
            ]
          },
          "execution_count": 46,
          "metadata": {},
          "output_type": "execute_result"
        }
      ],
      "source": [
        "# Examine best score\n",
        "rf_cv.best_score_"
      ]
    },
    {
      "cell_type": "markdown",
      "metadata": {
        "id": "heGb51fHh3E5"
      },
      "source": [
        "Examine the best combination of hyperparameters."
      ]
    },
    {
      "cell_type": "code",
      "execution_count": null,
      "metadata": {
        "id": "FjgXbO7Kh8is",
        "outputId": "43ad4c77-79e5-42ef-ecc8-96fe51775e36"
      },
      "outputs": [
        {
          "data": {
            "text/plain": [
              "{'max_depth': None,\n",
              " 'max_features': 1.0,\n",
              " 'max_samples': 0.7,\n",
              " 'min_samples_leaf': 1,\n",
              " 'min_samples_split': 2,\n",
              " 'n_estimators': 300}"
            ]
          },
          "execution_count": 47,
          "metadata": {},
          "output_type": "execute_result"
        }
      ],
      "source": [
        "#==> ENTER YOUR CODE HERE\n",
        "rf_cv.best_params_"
      ]
    },
    {
      "cell_type": "code",
      "execution_count": null,
      "metadata": {
        "id": "9wG6QgaiWSae",
        "outputId": "5f72baef-d196-4995-c94b-554bbd21efc5"
      },
      "outputs": [
        {
          "data": {
            "text/html": [
              "<div>\n",
              "<style scoped>\n",
              "    .dataframe tbody tr th:only-of-type {\n",
              "        vertical-align: middle;\n",
              "    }\n",
              "\n",
              "    .dataframe tbody tr th {\n",
              "        vertical-align: top;\n",
              "    }\n",
              "\n",
              "    .dataframe thead th {\n",
              "        text-align: right;\n",
              "    }\n",
              "</style>\n",
              "<table border=\"1\" class=\"dataframe\">\n",
              "  <thead>\n",
              "    <tr style=\"text-align: right;\">\n",
              "      <th></th>\n",
              "      <th>mean_fit_time</th>\n",
              "      <th>std_fit_time</th>\n",
              "      <th>mean_score_time</th>\n",
              "      <th>std_score_time</th>\n",
              "      <th>param_max_depth</th>\n",
              "      <th>param_max_features</th>\n",
              "      <th>param_max_samples</th>\n",
              "      <th>param_min_samples_leaf</th>\n",
              "      <th>param_min_samples_split</th>\n",
              "      <th>param_n_estimators</th>\n",
              "      <th>params</th>\n",
              "      <th>split0_test_precision</th>\n",
              "      <th>split1_test_precision</th>\n",
              "      <th>split2_test_precision</th>\n",
              "      <th>split3_test_precision</th>\n",
              "      <th>mean_test_precision</th>\n",
              "      <th>std_test_precision</th>\n",
              "      <th>rank_test_precision</th>\n",
              "      <th>split0_test_accuracy</th>\n",
              "      <th>split1_test_accuracy</th>\n",
              "      <th>split2_test_accuracy</th>\n",
              "      <th>split3_test_accuracy</th>\n",
              "      <th>mean_test_accuracy</th>\n",
              "      <th>std_test_accuracy</th>\n",
              "      <th>rank_test_accuracy</th>\n",
              "      <th>split0_test_f1</th>\n",
              "      <th>split1_test_f1</th>\n",
              "      <th>split2_test_f1</th>\n",
              "      <th>split3_test_f1</th>\n",
              "      <th>mean_test_f1</th>\n",
              "      <th>std_test_f1</th>\n",
              "      <th>rank_test_f1</th>\n",
              "      <th>split0_test_recall</th>\n",
              "      <th>split1_test_recall</th>\n",
              "      <th>split2_test_recall</th>\n",
              "      <th>split3_test_recall</th>\n",
              "      <th>mean_test_recall</th>\n",
              "      <th>std_test_recall</th>\n",
              "      <th>rank_test_recall</th>\n",
              "    </tr>\n",
              "  </thead>\n",
              "  <tbody>\n",
              "    <tr>\n",
              "      <th>0</th>\n",
              "      <td>45.619144</td>\n",
              "      <td>1.5492</td>\n",
              "      <td>0.246887</td>\n",
              "      <td>0.006088</td>\n",
              "      <td>None</td>\n",
              "      <td>1.0</td>\n",
              "      <td>0.7</td>\n",
              "      <td>1</td>\n",
              "      <td>2</td>\n",
              "      <td>300</td>\n",
              "      <td>{'max_depth': None, 'max_features': 1.0, 'max_...</td>\n",
              "      <td>0.678247</td>\n",
              "      <td>0.679792</td>\n",
              "      <td>0.672395</td>\n",
              "      <td>0.669244</td>\n",
              "      <td>0.674919</td>\n",
              "      <td>0.004284</td>\n",
              "      <td>1</td>\n",
              "      <td>0.692106</td>\n",
              "      <td>0.677039</td>\n",
              "      <td>0.677367</td>\n",
              "      <td>0.674419</td>\n",
              "      <td>0.680233</td>\n",
              "      <td>0.00695</td>\n",
              "      <td>1</td>\n",
              "      <td>0.72973</td>\n",
              "      <td>0.704259</td>\n",
              "      <td>0.711228</td>\n",
              "      <td>0.709187</td>\n",
              "      <td>0.713601</td>\n",
              "      <td>0.00965</td>\n",
              "      <td>1</td>\n",
              "      <td>0.78967</td>\n",
              "      <td>0.730554</td>\n",
              "      <td>0.754823</td>\n",
              "      <td>0.7542</td>\n",
              "      <td>0.757312</td>\n",
              "      <td>0.021089</td>\n",
              "      <td>1</td>\n",
              "    </tr>\n",
              "  </tbody>\n",
              "</table>\n",
              "</div>"
            ],
            "text/plain": [
              "   mean_fit_time  std_fit_time  mean_score_time  std_score_time  \\\n",
              "0      45.619144        1.5492         0.246887        0.006088   \n",
              "\n",
              "  param_max_depth param_max_features param_max_samples param_min_samples_leaf  \\\n",
              "0            None                1.0               0.7                      1   \n",
              "\n",
              "  param_min_samples_split param_n_estimators  \\\n",
              "0                       2                300   \n",
              "\n",
              "                                              params  split0_test_precision  \\\n",
              "0  {'max_depth': None, 'max_features': 1.0, 'max_...               0.678247   \n",
              "\n",
              "   split1_test_precision  split2_test_precision  split3_test_precision  \\\n",
              "0               0.679792               0.672395               0.669244   \n",
              "\n",
              "   mean_test_precision  std_test_precision  rank_test_precision  \\\n",
              "0             0.674919            0.004284                    1   \n",
              "\n",
              "   split0_test_accuracy  split1_test_accuracy  split2_test_accuracy  \\\n",
              "0              0.692106              0.677039              0.677367   \n",
              "\n",
              "   split3_test_accuracy  mean_test_accuracy  std_test_accuracy  \\\n",
              "0              0.674419            0.680233            0.00695   \n",
              "\n",
              "   rank_test_accuracy  split0_test_f1  split1_test_f1  split2_test_f1  \\\n",
              "0                   1         0.72973        0.704259        0.711228   \n",
              "\n",
              "   split3_test_f1  mean_test_f1  std_test_f1  rank_test_f1  \\\n",
              "0        0.709187      0.713601      0.00965             1   \n",
              "\n",
              "   split0_test_recall  split1_test_recall  split2_test_recall  \\\n",
              "0             0.78967            0.730554            0.754823   \n",
              "\n",
              "   split3_test_recall  mean_test_recall  std_test_recall  rank_test_recall  \n",
              "0              0.7542          0.757312         0.021089                 1  "
            ]
          },
          "execution_count": 48,
          "metadata": {},
          "output_type": "execute_result"
        }
      ],
      "source": [
        "ab = pd.DataFrame(rf_cv.cv_results_)\n",
        "ab"
      ]
    },
    {
      "cell_type": "markdown",
      "metadata": {
        "id": "qZZnem5yiAau"
      },
      "source": [
        "Use the `make_results()` function to output all of the scores of your model. Note that it accepts three arguments."
      ]
    },
    {
      "cell_type": "code",
      "execution_count": null,
      "metadata": {
        "id": "u-UodWEOedxz"
      },
      "outputs": [],
      "source": [
        "def make_results(model_name:str, model_object, metric:str):\n",
        "    '''\n",
        "    Arguments:\n",
        "    model_name (string): what you want the model to be called in the output table\n",
        "    model_object: a fit GridSearchCV object\n",
        "    metric (string): precision, recall, f1, or accuracy\n",
        "\n",
        "    Returns a pandas df with the F1, recall, precision, and accuracy scores\n",
        "    for the model with the best mean 'metric' score across all validation folds.\n",
        "    '''\n",
        "\n",
        "    # Create dictionary that maps input metric to actual metric name in GridSearchCV\n",
        "    metric_dict = {'precision': 'mean_test_precision',\n",
        "                 'recall': 'mean_test_recall',\n",
        "                 'f1': 'mean_test_f1',\n",
        "                 'accuracy': 'mean_test_accuracy',\n",
        "                 }\n",
        "\n",
        "    # Get all the results from the CV and put them in a df\n",
        "    cv_results = pd.DataFrame(model_object.cv_results_)\n",
        "\n",
        "    # Isolate the row of the df with the max(metric) score\n",
        "    best_estimator_results = cv_results.iloc[cv_results[metric_dict[metric]].idxmax(), :]\n",
        "\n",
        "    # Extract Accuracy, precision, recall, and f1 score from that row\n",
        "    f1 = best_estimator_results.mean_test_f1\n",
        "    recall = best_estimator_results.mean_test_recall\n",
        "    precision = best_estimator_results.mean_test_precision\n",
        "    accuracy = best_estimator_results.mean_test_accuracy\n",
        "\n",
        "    # Create table of results\n",
        "    table = pd.DataFrame({'model': [model_name],\n",
        "                        'precision': [precision],\n",
        "                        'recall': [recall],\n",
        "                        'F1': [f1],\n",
        "                        'accuracy': [accuracy],\n",
        "                        },\n",
        "                       )\n",
        "\n",
        "    return table"
      ]
    },
    {
      "cell_type": "markdown",
      "metadata": {
        "id": "cI84Xo37ZLy0"
      },
      "source": [
        "Call `make_results()` on the GridSearch object."
      ]
    },
    {
      "cell_type": "code",
      "execution_count": null,
      "metadata": {
        "id": "qAYb2QigiT_h",
        "outputId": "fd9d4545-5b45-49f0-c901-d94c8fcf2192"
      },
      "outputs": [
        {
          "data": {
            "text/html": [
              "<div>\n",
              "<style scoped>\n",
              "    .dataframe tbody tr th:only-of-type {\n",
              "        vertical-align: middle;\n",
              "    }\n",
              "\n",
              "    .dataframe tbody tr th {\n",
              "        vertical-align: top;\n",
              "    }\n",
              "\n",
              "    .dataframe thead th {\n",
              "        text-align: right;\n",
              "    }\n",
              "</style>\n",
              "<table border=\"1\" class=\"dataframe\">\n",
              "  <thead>\n",
              "    <tr style=\"text-align: right;\">\n",
              "      <th></th>\n",
              "      <th>model</th>\n",
              "      <th>precision</th>\n",
              "      <th>recall</th>\n",
              "      <th>F1</th>\n",
              "      <th>accuracy</th>\n",
              "    </tr>\n",
              "  </thead>\n",
              "  <tbody>\n",
              "    <tr>\n",
              "      <th>0</th>\n",
              "      <td>Tuned Random Forest</td>\n",
              "      <td>0.674919</td>\n",
              "      <td>0.757312</td>\n",
              "      <td>0.713601</td>\n",
              "      <td>0.680233</td>\n",
              "    </tr>\n",
              "  </tbody>\n",
              "</table>\n",
              "</div>"
            ],
            "text/plain": [
              "                 model  precision    recall        F1  accuracy\n",
              "0  Tuned Random Forest   0.674919  0.757312  0.713601  0.680233"
            ]
          },
          "execution_count": 50,
          "metadata": {},
          "output_type": "execute_result"
        }
      ],
      "source": [
        "result = make_results(\"Tuned Random Forest\", rf_cv, \"f1\")\n",
        "result"
      ]
    },
    {
      "cell_type": "markdown",
      "metadata": {
        "id": "SB-yhW9uu7dO"
      },
      "source": [
        "Your results should produce an acceptable model across the board. Typically scores of 0.65 or better are considered acceptable, but this is always dependent on your use case. Optional: try to improve the scores. It's worth trying, especially to practice searching over different hyperparameters.\n",
        "\n",
        "\n",
        "For example, if the available values for `min_samples_split` were [2, 3, 4] and GridSearch identified the best value as 4, consider trying [4, 5, 6] this time.\n"
      ]
    },
    {
      "cell_type": "markdown",
      "metadata": {
        "id": "C7XerUboWSaf"
      },
      "source": [
        "Use your model to predict on the test data. Assign the results to a variable called `rf_preds`."
      ]
    },
    {
      "cell_type": "markdown",
      "metadata": {
        "id": "ljpSrMxzWSaf"
      },
      "source": [
        "For this project, you will use several models to predict on the test data. Remember that this decision comes with a trade-off. What is the benefit of this? What is the drawback?"
      ]
    },
    {
      "cell_type": "markdown",
      "metadata": {
        "id": "ycwjBHJjiT9J"
      },
      "source": [
        "The benefit of using multiple models to predict on the test data is that you can compare models using data that was not used to train/tune hyperparameters. This reduces the risk of selecting a model based on how well it fit the training data.\n",
        "\n",
        "The drawback of using the final test data to select a model is that, by using the unseen data to make a decision about which model to use, you no longer have a truly unbiased idea of how your model would be expected to perform on new data. In this case, think of final model selection as another way of \"tuning\" your model."
      ]
    },
    {
      "cell_type": "code",
      "execution_count": null,
      "metadata": {
        "id": "smUrTSFRWSaf"
      },
      "outputs": [],
      "source": [
        "# Get scores on test data\n",
        "#==> ENTER YOUR CODE HERE"
      ]
    },
    {
      "cell_type": "markdown",
      "metadata": {
        "id": "LUXZPfDeWSaf"
      },
      "source": [
        "Use the below `get_test_scores()` function you will use to output the scores of the model on the test data."
      ]
    },
    {
      "cell_type": "code",
      "execution_count": null,
      "metadata": {
        "id": "YvFxCgoPWSag"
      },
      "outputs": [],
      "source": [
        "def get_test_scores(model_name:str, preds, y_test_data):\n",
        "    '''\n",
        "    Generate a table of test scores.\n",
        "\n",
        "    In:\n",
        "    model_name (string): Your choice: how the model will be named in the output table\n",
        "    preds: numpy array of test predictions\n",
        "    y_test_data: numpy array of y_test data\n",
        "\n",
        "    Out:\n",
        "    table: a pandas df of precision, recall, f1, and accuracy scores for your model\n",
        "    '''\n",
        "    accuracy = accuracy_score(y_test_data, preds)\n",
        "    precision = precision_score(y_test_data, preds)\n",
        "    recall = recall_score(y_test_data, preds)\n",
        "    f1 = f1_score(y_test_data, preds)\n",
        "\n",
        "    table = pd.DataFrame({'model': [model_name],\n",
        "                        'precision': [precision],\n",
        "                        'recall': [recall],\n",
        "                        'F1': [f1],\n",
        "                        'accuracy': [accuracy]\n",
        "                        })\n",
        "\n",
        "    return table"
      ]
    },
    {
      "cell_type": "markdown",
      "metadata": {
        "id": "FDRAL7zQx21J"
      },
      "source": [
        "1. Use the `get_test_scores()` function to generate the scores on the test data. Assign the results to `rf_test_scores`.\n",
        "2. Call `rf_test_scores` to output the results."
      ]
    },
    {
      "cell_type": "markdown",
      "metadata": {
        "id": "YTkPerW7WSag"
      },
      "source": [
        "###### RF test results"
      ]
    },
    {
      "cell_type": "code",
      "execution_count": null,
      "metadata": {
        "id": "Iil1LjabiT5x",
        "outputId": "5d1cf1ca-cb92-4f4a-d0cc-4f3b719f5767"
      },
      "outputs": [
        {
          "data": {
            "text/html": [
              "<div>\n",
              "<style scoped>\n",
              "    .dataframe tbody tr th:only-of-type {\n",
              "        vertical-align: middle;\n",
              "    }\n",
              "\n",
              "    .dataframe tbody tr th {\n",
              "        vertical-align: top;\n",
              "    }\n",
              "\n",
              "    .dataframe thead th {\n",
              "        text-align: right;\n",
              "    }\n",
              "</style>\n",
              "<table border=\"1\" class=\"dataframe\">\n",
              "  <thead>\n",
              "    <tr style=\"text-align: right;\">\n",
              "      <th></th>\n",
              "      <th>model</th>\n",
              "      <th>precision</th>\n",
              "      <th>recall</th>\n",
              "      <th>F1</th>\n",
              "      <th>accuracy</th>\n",
              "    </tr>\n",
              "  </thead>\n",
              "  <tbody>\n",
              "    <tr>\n",
              "      <th>0</th>\n",
              "      <td>Tuned Random Forest</td>\n",
              "      <td>0.674919</td>\n",
              "      <td>0.757312</td>\n",
              "      <td>0.713601</td>\n",
              "      <td>0.680233</td>\n",
              "    </tr>\n",
              "    <tr>\n",
              "      <th>0</th>\n",
              "      <td>Tuned Random Forest Test</td>\n",
              "      <td>0.675297</td>\n",
              "      <td>0.779091</td>\n",
              "      <td>0.723490</td>\n",
              "      <td>0.686538</td>\n",
              "    </tr>\n",
              "  </tbody>\n",
              "</table>\n",
              "</div>"
            ],
            "text/plain": [
              "                      model  precision    recall        F1  accuracy\n",
              "0       Tuned Random Forest   0.674919  0.757312  0.713601  0.680233\n",
              "0  Tuned Random Forest Test   0.675297  0.779091  0.723490  0.686538"
            ]
          },
          "execution_count": 53,
          "metadata": {},
          "output_type": "execute_result"
        }
      ],
      "source": [
        " # Get scores on test data\n",
        "y_pred = rf_cv.predict(X_test)\n",
        "rf_test_scores = get_test_scores(\"Tuned Random Forest Test\", y_pred, y_test)\n",
        "test_result = pd.concat([result, rf_test_scores])\n",
        "test_result"
      ]
    },
    {
      "cell_type": "markdown",
      "metadata": {
        "id": "E4JiP5VRz2un"
      },
      "source": [
        "**Question:** How do your test results compare to your validation results?"
      ]
    },
    {
      "cell_type": "markdown",
      "metadata": {
        "id": "dE6oXEJJiT2R"
      },
      "source": [
        "All scores increased by at most ~0.02."
      ]
    },
    {
      "cell_type": "markdown",
      "metadata": {
        "id": "-ZTdruecWSag"
      },
      "source": [
        "##### **XGBoost**\n",
        "\n",
        " Try to improve your scores using an XGBoost model.\n",
        "\n",
        "1. Instantiate the XGBoost classifier `xgb` and set `objective='binary:logistic'`. Also set the random state.\n",
        "\n",
        "2. Create a dictionary `cv_params` of the following hyperparameters and their corresponding values to tune:\n",
        " - `max_depth`\n",
        " - `min_child_weight`\n",
        " - `learning_rate`\n",
        " - `n_estimators`\n",
        "\n",
        "3. Define a set `scoring` of scoring metrics for grid search to capture (precision, recall, F1 score, and accuracy).\n",
        "\n",
        "4. Instantiate the `GridSearchCV` object `xgb1`. Pass to it as arguments:\n",
        " - estimator=`xgb`\n",
        " - param_grid=`cv_params`\n",
        " - scoring=`scoring`\n",
        " - cv: define the number of cross-validation folds you want (`cv=_`)\n",
        " - refit: indicate which evaluation metric you want to use to select the model (`refit='f1'`)"
      ]
    },
    {
      "cell_type": "code",
      "execution_count": null,
      "metadata": {
        "id": "pe_cRQcWWSah"
      },
      "outputs": [],
      "source": [
        "# 1. Instantiate the XGBoost classifier\n",
        "import xgboost as xgb\n",
        "xgb = xgb.XGBClassifier(objective = \"binary:logistic\", random_state = 42)\n",
        "# 2. Create a dictionary of hyperparameters to tune\n",
        "cv_params = {\"max_depth\": [8],\n",
        "            \"min_child_weight\": [2],\n",
        "            \"learning_rate\": [0.1],\n",
        "            \"n_estimators\": [500]}\n",
        "# 3. Define a set of scoring metrics to capture\n",
        "scoring = {\"accuracy\", \"precision\", \"recall\", \"f1\"}\n",
        "# 4. Instantiate the GridSearchCV object\n",
        "xgb_cv = GridSearchCV(xgb, cv_params, scoring= scoring, cv = 4, refit = \"f1\")"
      ]
    },
    {
      "cell_type": "markdown",
      "metadata": {
        "id": "1KahqLQqWSah"
      },
      "source": [
        "Now fit the model to the `X_train` and `y_train` data."
      ]
    },
    {
      "cell_type": "code",
      "execution_count": null,
      "metadata": {
        "id": "uHCkrzFmWSah",
        "outputId": "66c2699d-943c-4659-fff8-8f086f2bcf48"
      },
      "outputs": [
        {
          "name": "stdout",
          "output_type": "stream",
          "text": [
            "CPU times: user 6min 37s, sys: 607 ms, total: 6min 38s\n",
            "Wall time: 3min 19s\n"
          ]
        },
        {
          "data": {
            "text/plain": [
              "GridSearchCV(cv=4, error_score=nan,\n",
              "             estimator=XGBClassifier(base_score=None, booster=None,\n",
              "                                     callbacks=None, colsample_bylevel=None,\n",
              "                                     colsample_bynode=None,\n",
              "                                     colsample_bytree=None,\n",
              "                                     early_stopping_rounds=None,\n",
              "                                     enable_categorical=False, eval_metric=None,\n",
              "                                     gamma=None, gpu_id=None, grow_policy=None,\n",
              "                                     importance_type=None,\n",
              "                                     interaction_constraints=None,\n",
              "                                     learning_rate=None, max...\n",
              "                                     n_estimators=100, n_jobs=None,\n",
              "                                     num_parallel_tree=None,\n",
              "                                     objective='binary:logistic',\n",
              "                                     predictor=None, random_state=42,\n",
              "                                     reg_alpha=None, ...),\n",
              "             iid='deprecated', n_jobs=None,\n",
              "             param_grid={'learning_rate': [0.1], 'max_depth': [8],\n",
              "                         'min_child_weight': [2], 'n_estimators': [500]},\n",
              "             pre_dispatch='2*n_jobs', refit='f1', return_train_score=False,\n",
              "             scoring={'precision', 'accuracy', 'f1', 'recall'}, verbose=0)"
            ]
          },
          "execution_count": 55,
          "metadata": {},
          "output_type": "execute_result"
        }
      ],
      "source": [
        "%%time\n",
        "xgb_cv.fit(X_train, y_train)"
      ]
    },
    {
      "cell_type": "markdown",
      "metadata": {
        "id": "tG_7JdAJWSah"
      },
      "source": [
        "Get the best score from this model."
      ]
    },
    {
      "cell_type": "code",
      "execution_count": null,
      "metadata": {
        "id": "2Rjj1s5tWSah",
        "outputId": "18def896-cb5b-4ec3-8698-26579bdb8200"
      },
      "outputs": [
        {
          "data": {
            "text/plain": [
              "0.6977560172278552"
            ]
          },
          "execution_count": 56,
          "metadata": {},
          "output_type": "execute_result"
        }
      ],
      "source": [
        "# Examine best score\n",
        "xgb_cv.best_score_"
      ]
    },
    {
      "cell_type": "markdown",
      "metadata": {
        "id": "2bB-QyGz0RcU"
      },
      "source": [
        "And the best parameters."
      ]
    },
    {
      "cell_type": "code",
      "execution_count": null,
      "metadata": {
        "id": "JiLja3YViTzj",
        "outputId": "99f61ba3-f541-4ad9-ffa5-19e8678a4dc7"
      },
      "outputs": [
        {
          "data": {
            "text/plain": [
              "{'learning_rate': 0.1,\n",
              " 'max_depth': 8,\n",
              " 'min_child_weight': 2,\n",
              " 'n_estimators': 500}"
            ]
          },
          "execution_count": 57,
          "metadata": {},
          "output_type": "execute_result"
        }
      ],
      "source": [
        "# Examine best parameters\n",
        "\n",
        "xgb_cv.best_params_"
      ]
    },
    {
      "cell_type": "markdown",
      "metadata": {
        "id": "eTE2QdNP0eEP"
      },
      "source": [
        "##### XGB CV Results\n",
        "\n",
        "Use the `make_results()` function to output all of the scores of your model. Note that it accepts three arguments."
      ]
    },
    {
      "cell_type": "code",
      "execution_count": null,
      "metadata": {
        "id": "L4TSYXJWiTxs",
        "outputId": "ccc3f452-d159-4390-f30a-40819fec4801"
      },
      "outputs": [
        {
          "data": {
            "text/html": [
              "<div>\n",
              "<style scoped>\n",
              "    .dataframe tbody tr th:only-of-type {\n",
              "        vertical-align: middle;\n",
              "    }\n",
              "\n",
              "    .dataframe tbody tr th {\n",
              "        vertical-align: top;\n",
              "    }\n",
              "\n",
              "    .dataframe thead th {\n",
              "        text-align: right;\n",
              "    }\n",
              "</style>\n",
              "<table border=\"1\" class=\"dataframe\">\n",
              "  <thead>\n",
              "    <tr style=\"text-align: right;\">\n",
              "      <th></th>\n",
              "      <th>model</th>\n",
              "      <th>precision</th>\n",
              "      <th>recall</th>\n",
              "      <th>F1</th>\n",
              "      <th>accuracy</th>\n",
              "    </tr>\n",
              "  </thead>\n",
              "  <tbody>\n",
              "    <tr>\n",
              "      <th>0</th>\n",
              "      <td>XGBoost</td>\n",
              "      <td>0.673074</td>\n",
              "      <td>0.724487</td>\n",
              "      <td>0.697756</td>\n",
              "      <td>0.669669</td>\n",
              "    </tr>\n",
              "  </tbody>\n",
              "</table>\n",
              "</div>"
            ],
            "text/plain": [
              "     model  precision    recall        F1  accuracy\n",
              "0  XGBoost   0.673074  0.724487  0.697756  0.669669"
            ]
          },
          "execution_count": 58,
          "metadata": {},
          "output_type": "execute_result"
        }
      ],
      "source": [
        "# Call 'make_results()' on the GridSearch object\n",
        "\n",
        "xgb_result = make_results(\"XGBoost\", xgb_cv, \"f1\")\n",
        "xgb_result"
      ]
    },
    {
      "cell_type": "markdown",
      "metadata": {
        "id": "wR1QdIAX1dKX"
      },
      "source": [
        "Use your model to predict on the test data. Assign the results to a variable called `xgb_preds`."
      ]
    },
    {
      "cell_type": "code",
      "execution_count": null,
      "metadata": {
        "id": "5Y2giCN32Dwc"
      },
      "outputs": [],
      "source": [
        "# Get scores on test data\n",
        "xgb_preds = xgb_cv.best_estimator_.predict(X_test)"
      ]
    },
    {
      "cell_type": "markdown",
      "metadata": {
        "id": "cEwnNMMP2Nbb"
      },
      "source": [
        "###### XGB test results\n",
        "\n",
        "1. Use the `get_test_scores()` function to generate the scores on the test data. Assign the results to `xgb_test_scores`.\n",
        "2. Call `xgb_test_scores` to output the results."
      ]
    },
    {
      "cell_type": "code",
      "execution_count": null,
      "metadata": {
        "id": "g7jShC2TiTvx",
        "outputId": "7a54c75f-6df7-4e27-b9a9-31ae3b7f806f"
      },
      "outputs": [
        {
          "name": "stdout",
          "output_type": "stream",
          "text": [
            "         model  precision    recall        F1  accuracy\n",
            "0      XGBoost   0.673074  0.724487  0.697756  0.669669\n",
            "0  XGBoostTest   0.675660  0.747978  0.709982  0.678349\n",
            "                      model  precision    recall        F1  accuracy\n",
            "0       Tuned Random Forest   0.674919  0.757312  0.713601  0.680233\n",
            "0  Tuned Random Forest Test   0.675297  0.779091  0.723490  0.686538\n"
          ]
        }
      ],
      "source": [
        "# Get scores on test data\n",
        "#==> ENTER YOUR CODE HERE\n",
        "xgb_test_scores = get_test_scores(\"XGBoostTest\", xgb_preds, y_test)\n",
        "xgb_result_combined = pd.concat([xgb_result, xgb_test_scores], axis = 0)\n",
        "print(xgb_result_combined)\n",
        "print(test_result)"
      ]
    },
    {
      "cell_type": "markdown",
      "metadata": {
        "id": "saM8YwbAyi-F"
      },
      "source": [
        "**Question:** Compare these scores to the random forest test scores. What do you notice? Which model would you choose?"
      ]
    },
    {
      "cell_type": "markdown",
      "metadata": {
        "id": "I_CCEMZkWSaj"
      },
      "source": [
        "The F<sub>1</sub> score is ~0.01 lower than the random forest model. Both models are acceptable, but the random forest model is the champion."
      ]
    },
    {
      "cell_type": "markdown",
      "metadata": {
        "id": "eCNH80Ku9TpO"
      },
      "source": [
        "Plot a confusion matrix of the model's predictions on the test data."
      ]
    },
    {
      "cell_type": "code",
      "execution_count": null,
      "metadata": {
        "id": "5iUyZWjWvqOd",
        "outputId": "467e31a4-9dae-44ea-8cb4-82220e10f572"
      },
      "outputs": [
        {
          "data": {
            "text/plain": [
              "<sklearn.metrics._plot.confusion_matrix.ConfusionMatrixDisplay at 0x7f05daf89fd0>"
            ]
          },
          "execution_count": 61,
          "metadata": {},
          "output_type": "execute_result"
        },
        {
          "data": {
            "image/png": "[encoded data removed]",
            "text/plain": [
              "<Figure size 432x288 with 2 Axes>"
            ]
          },
          "metadata": {
            "needs_background": "light"
          },
          "output_type": "display_data"
        }
      ],
      "source": [
        "# Generate array of values for confusion matrix\n",
        "cm = confusion_matrix(y_test, y_pred, labels = rf_cv.classes_)\n",
        "# Plot confusion matrix\n",
        "disp = ConfusionMatrixDisplay(cm, display_labels = rf_cv.classes_)\n",
        "disp.plot(values_format = \"\")"
      ]
    },
    {
      "cell_type": "markdown",
      "metadata": {
        "id": "dW-3_eWW-k2u"
      },
      "source": [
        "**Question:** What type of errors are more common in the model?"
      ]
    },
    {
      "cell_type": "markdown",
      "metadata": {
        "id": "dKvY5mGAWSaj"
      },
      "source": [
        "The model is almost twice as likely to predict a false positive than it is to predict a false negative. Therefore, type I errors are more common. This is less desirable, because it's better for a driver to be pleasantly surprised by a generous tip when they weren't expecting one than to be disappointed by a low tip when they were expecting a generous one. However, the overall performance of this model is satisfactory."
      ]
    },
    {
      "cell_type": "markdown",
      "metadata": {
        "id": "XNexnwvy09PK"
      },
      "source": [
        "##### Feature importance\n",
        "\n",
        "Use the `feature_importances_` attribute of the best estimator object to inspect the features of your final model. You can then sort them and plot the most important ones."
      ]
    },
    {
      "cell_type": "code",
      "execution_count": null,
      "metadata": {
        "id": "kz5T1gHc1R2x",
        "outputId": "a287d976-b1da-424c-865e-650a862ff1b5"
      },
      "outputs": [
        {
          "data": {
            "image/png": "[encoded data removed]",
            "text/plain": [
              "<Figure size 576x360 with 1 Axes>"
            ]
          },
          "metadata": {
            "needs_background": "light"
          },
          "output_type": "display_data"
        }
      ],
      "source": [
        "best_result = rf_cv.best_estimator_.feature_importances_\n",
        "rf_importances = pd.Series(best_result, index = X.columns)\n",
        "rf_importances = rf_importances.sort_values(ascending = False)\n",
        "rf_importances = rf_importances.head(15)\n",
        "fig = plt.figure(figsize = (8,5))\n",
        "sns.barplot(x = rf_importances.index, y = rf_importances.values, color = \"#0E86D4\")\n",
        "plt.xticks(rotation= 90)\n",
        "plt.xlabel(\"Features\")\n",
        "plt.title(\"Feature Importance\")\n",
        "fig.tight_layout()\n",
        "plt.show()"
      ]
    },
    {
      "cell_type": "markdown",
      "metadata": {
        "id": "_HGsWfEOeWPm"
      },
      "source": [
        "## PACE: **Execute**\n",
        "\n",
        "Consider the questions in your PACE Strategy Document to reflect on the Execute stage."
      ]
    },
    {
      "cell_type": "markdown",
      "metadata": {
        "id": "ill21hQ4ej9-"
      },
      "source": [
        "### **Task 4. Conclusion**\n",
        "\n",
        "In this step, use the results of the models above to formulate a conclusion. Consider the following questions:\n",
        "\n",
        "1. **Would you recommend using this model? Why or why not?**  \n",
        "Yes, this is model performs acceptably. Its F<sub>1</sub> score was 0.7235 and it had an overall accuracy of 0.6865. It correctly identified ~78% of the actual responders in the test set, which is 48% better than a random guess. It may be worthwhile to test the model with a select group of taxi drivers to get feedback.  \n",
        "\n",
        "\n",
        "2. **What was your highest scoring model doing? Can you explain how it was making predictions?**   \n",
        "Unfortunately, random forest is not the most transparent machine learning algorithm. We know that `VendorID`, `predicted_fare`, `mean_duration`, and `mean_distance` are the most important features, but we don't know how they influence tipping. This would require further exploration. It is interesting that `VendorID` is the most predictive feature. This seems to indicate that one of the two vendors tends to attract more generous customers. It may be worth performing statistical tests on the different vendors to examine this further.  \n",
        "\n",
        "\n",
        "3. **Are there new features that you can engineer that might improve model performance?**  \n",
        "There are almost always additional features that can be engineered, but hopefully the most obvious ones were generated during the first round of modeling. In our case, we could try creating three new columns that indicate if the trip distance is short, medium, or far. We could also engineer a column that gives a ratio that represents (the amount of money from the fare amount to the nearest higher multiple of \\\\$5) / fare amount. For example, if the fare were \\\\$12, the value in this column would be 0.25, because \\\\$12 to the nearest higher multiple of \\\\$5 (\\\\$15) is \\\\$3, and \\\\$3 divided by \\\\$12 is 0.25. The intuition for this feature is that people might be likely to simply round up their tip, so journeys with fares with values just under a multiple of \\\\$5 may have lower tip percentages than those with fare values just over a multiple of \\\\$5. We could also do the same thing for fares to the nearest \\\\$10.\n",
        "\n",
        "$$\n",
        "round5\\_ratio = \\frac{amount\\ of\\ money\\ from\\ the\\ fare\\ amount\\ to\\ the\\ nearest\\ higher\\ multiple\\ of\\ \\$5}{fare\\ amount}\n",
        "$$\n",
        "\n",
        "<br>\n",
        "\n",
        "4. **What features would you want to have that would likely improve the performance of your model?**   \n",
        "It would probably be very helpful to have past tipping behavior for each customer. It would also be valuable to have accurate tip values for customers who pay with cash.\n",
        "It would be helpful to have a lot more data. With enough data, we could create a unique feature for each pickup/dropoff combination.\n"
      ]
    },
    {
      "cell_type": "markdown",
      "metadata": {
        "id": "l0VpFKktWSak"
      },
      "source": []
    }
  ],
  "metadata": {
    "colab": {
      "provenance": []
    },
    "kernelspec": {
      "display_name": "Python 3",
      "language": "python",
      "name": "python3"
    },
    "language_info": {
      "codemirror_mode": {
        "name": "ipython",
        "version": 3
      },
      "file_extension": ".py",
      "mimetype": "text/x-python",
      "name": "python",
      "nbconvert_exporter": "python",
      "pygments_lexer": "ipython3",
      "version": "3.7.6"
    }
  },
  "nbformat": 4,
  "nbformat_minor": 0
}